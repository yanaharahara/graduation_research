{
 "cells": [
  {
   "cell_type": "code",
   "execution_count": 8,
   "id": "57ac13bc-c035-42da-b77f-3cc9b13725b6",
   "metadata": {},
   "outputs": [
    {
     "name": "stdout",
     "output_type": "stream",
     "text": [
      "0.3084166666666666\n"
     ]
    }
   ],
   "source": [
    "import pandas as pd\n",
    "import math\n",
    "#全チームの出塁率を足したもの\n",
    "sum_obp = 0.318 + 0.308 + 0.301 + 0.309 + 0.309 + 0.301 + 0.317 + 0.320 + 0.298 + 0.325 + 0.303 + 0.292\n",
    "#全チームの平均出塁率\n",
    "ave_obp = sum_obp / 12 \n",
    "print(ave_obp)"
   ]
  },
  {
   "cell_type": "code",
   "execution_count": 10,
   "id": "ced1e94b-f397-4cd3-81d6-84a138434cd4",
   "metadata": {},
   "outputs": [
    {
     "name": "stdout",
     "output_type": "stream",
     "text": [
      "63962\n",
      "19726\n"
     ]
    }
   ],
   "source": [
    "#全チームの打席を足したもの\n",
    "sum_plate_appearance = 5394 + 5275 + 5446 + 5284 + 5323 + 5341 + 5384 + 5379 + 5458 + 5177 + 5300 + 5201\n",
    "print(sum_plate_appearance)\n",
    "i = 63962 * 0.3084166666666666\n",
    "print(math.floor(i))"
   ]
  },
  {
   "cell_type": "code",
   "execution_count": 11,
   "id": "235ffede-0e78-40e8-a14c-41aae699b662",
   "metadata": {},
   "outputs": [
    {
     "name": "stdout",
     "output_type": "stream",
     "text": [
      "0.30838606100670507\n"
     ]
    }
   ],
   "source": [
    "#全打席からリプレー検証後のプレーの総数を引いたもの\n",
    "plate_appearance = 63962 - 428\n",
    "#全出塁からリプレー検証後のプレーにおいて出塁したものを引いたもの\n",
    "num_ob = 19726 - 133\n",
    "#リプレー検証以外のプレーの出塁率を求める\n",
    "obp = num_ob / plate_appearance\n",
    "print(obp)"
   ]
  }
 ],
 "metadata": {
  "kernelspec": {
   "display_name": "Python 3 (ipykernel)",
   "language": "python",
   "name": "python3"
  },
  "language_info": {
   "codemirror_mode": {
    "name": "ipython",
    "version": 3
   },
   "file_extension": ".py",
   "mimetype": "text/x-python",
   "name": "python",
   "nbconvert_exporter": "python",
   "pygments_lexer": "ipython3",
   "version": "3.8.11"
  },
  "vscode": {
   "interpreter": {
    "hash": "9b3d359b64615d31bd83d37813109b42bf93fe413de9e027593f9283da4fd420"
   }
  }
 },
 "nbformat": 4,
 "nbformat_minor": 5
}
