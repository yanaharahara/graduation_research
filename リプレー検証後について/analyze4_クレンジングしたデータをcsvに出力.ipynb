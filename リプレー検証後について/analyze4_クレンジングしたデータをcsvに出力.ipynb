{
 "cells": [
  {
   "cell_type": "code",
   "execution_count": 20,
   "id": "57ac13bc-c035-42da-b77f-3cc9b13725b6",
   "metadata": {},
   "outputs": [],
   "source": [
    "import pandas as pd"
   ]
  },
  {
   "cell_type": "code",
   "execution_count": 21,
   "id": "3f4bab06-86dc-4efb-babf-0cbf87bf3e1b",
   "metadata": {},
   "outputs": [
    {
     "data": {
      "text/html": [
       "<div>\n",
       "<style scoped>\n",
       "    .dataframe tbody tr th:only-of-type {\n",
       "        vertical-align: middle;\n",
       "    }\n",
       "\n",
       "    .dataframe tbody tr th {\n",
       "        vertical-align: top;\n",
       "    }\n",
       "\n",
       "    .dataframe thead th {\n",
       "        text-align: right;\n",
       "    }\n",
       "</style>\n",
       "<table border=\"1\" class=\"dataframe\">\n",
       "  <thead>\n",
       "    <tr style=\"text-align: right;\">\n",
       "      <th></th>\n",
       "      <th>投球数</th>\n",
       "      <th>球種</th>\n",
       "      <th>球速</th>\n",
       "      <th>結果</th>\n",
       "      <th>投手</th>\n",
       "      <th>打者</th>\n",
       "      <th>スコア</th>\n",
       "      <th>アウトカウント</th>\n",
       "    </tr>\n",
       "  </thead>\n",
       "  <tbody>\n",
       "    <tr>\n",
       "      <th>0</th>\n",
       "      <td>1</td>\n",
       "      <td>ストレート</td>\n",
       "      <td>141km/h</td>\n",
       "      <td>見逃し</td>\n",
       "      <td>石田 健大</td>\n",
       "      <td>岡林 勇希</td>\n",
       "      <td>0-0</td>\n",
       "      <td>NaN</td>\n",
       "    </tr>\n",
       "    <tr>\n",
       "      <th>1</th>\n",
       "      <td>2</td>\n",
       "      <td>スライダー</td>\n",
       "      <td>129km/h</td>\n",
       "      <td>ボール</td>\n",
       "      <td>石田 健大</td>\n",
       "      <td>岡林 勇希</td>\n",
       "      <td>0-0</td>\n",
       "      <td>NaN</td>\n",
       "    </tr>\n",
       "    <tr>\n",
       "      <th>2</th>\n",
       "      <td>3</td>\n",
       "      <td>ストレート</td>\n",
       "      <td>143km/h</td>\n",
       "      <td>ボール</td>\n",
       "      <td>石田 健大</td>\n",
       "      <td>岡林 勇希</td>\n",
       "      <td>0-0</td>\n",
       "      <td>NaN</td>\n",
       "    </tr>\n",
       "    <tr>\n",
       "      <th>3</th>\n",
       "      <td>4</td>\n",
       "      <td>スライダー</td>\n",
       "      <td>127km/h</td>\n",
       "      <td>ボール</td>\n",
       "      <td>石田 健大</td>\n",
       "      <td>岡林 勇希</td>\n",
       "      <td>0-0</td>\n",
       "      <td>NaN</td>\n",
       "    </tr>\n",
       "    <tr>\n",
       "      <th>4</th>\n",
       "      <td>5</td>\n",
       "      <td>スライダー</td>\n",
       "      <td>124km/h</td>\n",
       "      <td>遊失  [送球できず]</td>\n",
       "      <td>石田 健大</td>\n",
       "      <td>岡林 勇希</td>\n",
       "      <td>0-0</td>\n",
       "      <td>NaN</td>\n",
       "    </tr>\n",
       "  </tbody>\n",
       "</table>\n",
       "</div>"
      ],
      "text/plain": [
       "   投球数     球種       球速           結果     投手     打者  スコア アウトカウント\n",
       "0    1  ストレート  141km/h          見逃し  石田 健大  岡林 勇希  0-0     NaN\n",
       "1    2  スライダー  129km/h          ボール  石田 健大  岡林 勇希  0-0     NaN\n",
       "2    3  ストレート  143km/h          ボール  石田 健大  岡林 勇希  0-0     NaN\n",
       "3    4  スライダー  127km/h          ボール  石田 健大  岡林 勇希  0-0     NaN\n",
       "4    5  スライダー  124km/h  遊失  [送球できず]  石田 健大  岡林 勇希  0-0     NaN"
      ]
     },
     "metadata": {},
     "output_type": "display_data"
    },
    {
     "name": "stdout",
     "output_type": "stream",
     "text": [
      "5691\n"
     ]
    }
   ],
   "source": [
    "#データ読み込み&表示\n",
    "#df = pd.read_csv('data/allgame_result.csv')\n",
    "df = pd.read_csv('data_new/2_game_results_859_874.csv')\n",
    "display(df.head())\n",
    "length = df.shape[0]\n",
    "print(length)"
   ]
  },
  {
   "cell_type": "code",
   "execution_count": 22,
   "id": "be28eded-abf4-469a-87cb-4a0d954f565e",
   "metadata": {},
   "outputs": [
    {
     "name": "stdout",
     "output_type": "stream",
     "text": [
      "重複していた場所は5箇所\n",
      "[2526, 4055, 4204, 4306, 4614]\n"
     ]
    }
   ],
   "source": [
    "#前後で投球数が同じでかつ打者も同じ行は削除する\n",
    "cnt = 0\n",
    "length = df.shape[0]\n",
    "prev_num = 0\n",
    "now_num = 0\n",
    "prev_batter = ''\n",
    "now_batter = ''\n",
    "length = df.shape[0]\n",
    "array = []\n",
    "\n",
    "for index,data in df.iterrows():\n",
    "    #最後の行まで来たらbreak\n",
    "    if index + 1 == length:\n",
    "        break\n",
    "    #投球数と打者を取り出す    \n",
    "    prev_num = df.iat[index,0]\n",
    "    now_num = df.iat[index+1,0]\n",
    "    prev_batter = df.iat[index,5]         \n",
    "    now_batter = df.iat[index+1,5]\n",
    "    #もし前後の投球数と前後の打者名が同じであればエラーなのでprev_***の行を消す\n",
    "    if (prev_num == now_num) and (prev_batter == now_batter):\n",
    "        array.append(index)\n",
    "        cnt += 1\n",
    "        \n",
    "print('重複していた場所は'+str(cnt)+'箇所')\n",
    "print(array)"
   ]
  },
  {
   "cell_type": "code",
   "execution_count": 23,
   "id": "d5a332a8-710d-421e-9b1b-a2ab19cb58c9",
   "metadata": {},
   "outputs": [
    {
     "name": "stdout",
     "output_type": "stream",
     "text": [
      "5686\n",
      "5686\n"
     ]
    },
    {
     "name": "stderr",
     "output_type": "stream",
     "text": [
      "C:\\Users\\yutay\\anaconda3\\lib\\site-packages\\pandas\\core\\indexes\\base.py:4616: FutureWarning: Using a non-tuple sequence for multidimensional indexing is deprecated; use `arr[tuple(seq)]` instead of `arr[seq]`. In the future this will be interpreted as an array index, `arr[np.array(seq)]`, which will result either in an error or a different result.\n",
      "  result = getitem(key)\n"
     ]
    }
   ],
   "source": [
    "#該当箇所を削除&データフレームの該当箇所が削除されたかを確認\n",
    "df = df.drop(df.index[[array]])\n",
    "length = df.shape[0]\n",
    "print(length)\n",
    "print(5691-5)"
   ]
  },
  {
   "cell_type": "code",
   "execution_count": 24,
   "id": "bfc91b16-4ee4-4afc-bebb-638869fc98b2",
   "metadata": {},
   "outputs": [],
   "source": [
    "#indexを振り直す\n",
    "df = df.reset_index(drop=True)"
   ]
  },
  {
   "cell_type": "code",
   "execution_count": 25,
   "id": "23400ce6-1d17-40ff-a2bb-bc23ddc1017e",
   "metadata": {},
   "outputs": [],
   "source": [
    "#確認のためdf全体を表示\n",
    "#pd.set_option('display.max_rows', None)\n",
    "#pd.set_option('display.max_columns', None)\n",
    "#df"
   ]
  },
  {
   "cell_type": "code",
   "execution_count": 26,
   "id": "482dcc4e-fa42-454c-84b0-19a8a0bfba08",
   "metadata": {},
   "outputs": [
    {
     "name": "stdout",
     "output_type": "stream",
     "text": [
      "重複していた場所は11箇所\n",
      "[1935, 1936, 1937, 1938, 4006, 4007, 5247, 5248, 5249, 5250, 5251]\n"
     ]
    }
   ],
   "source": [
    "#打者でスコアが変わっている→打者名は同じだがスコアは異なる行は削除する\n",
    "#もし打者名は前後で同じだが前後のスコアが異なる場合 \n",
    "cnt = 0\n",
    "length = df.shape[0]\n",
    "prev_score = '' #スコア列は文字列のため\n",
    "now_score = '' #スコア列は文字列のため\n",
    "prev_batter = ''\n",
    "now_batter = ''\n",
    "length = df.shape[0]\n",
    "array = []\n",
    "\n",
    "for index,data in df.iterrows():\n",
    "    #最後の行まで来たらbreak\n",
    "    if index + 1 == length:\n",
    "        break\n",
    "    \n",
    "    #スコアと打者を取り出す    \n",
    "    prev_score = df.iat[index,6]\n",
    "    now_score = df.iat[index+1,6]\n",
    "    prev_batter = df.iat[index,5]         \n",
    "    now_batter = df.iat[index+1,5]\n",
    "    \n",
    "    #もし前後で打者名が同じなのにスコアが異なる場合はエラーなのでprev_***の行を消す\n",
    "    if (prev_batter == now_batter) and (prev_score != now_score):\n",
    "        array.append(index)\n",
    "        i = index\n",
    "        now_batter = df.iat[i,5]\n",
    "        i = index - 1\n",
    "        prev_batter = df.iat[i,5]\n",
    "        while now_batter == prev_batter:\n",
    "            array.append(i)\n",
    "            now_batter = prev_batter\n",
    "            i -= 1\n",
    "            prev_batter = df.iat[i,5]\n",
    "            cnt += 1\n",
    "        cnt += 1\n",
    "        \n",
    "print('重複していた場所は'+str(cnt)+'箇所')\n",
    "#print(array)\n",
    "#昇順にソート\n",
    "array.sort()\n",
    "print(array)"
   ]
  },
  {
   "cell_type": "code",
   "execution_count": 27,
   "id": "0f6bf36e-7b0f-42a4-b11b-987b232af0e8",
   "metadata": {},
   "outputs": [
    {
     "name": "stdout",
     "output_type": "stream",
     "text": [
      "5675\n",
      "5675\n"
     ]
    }
   ],
   "source": [
    "#該当箇所を削除＆チェック\n",
    "df = df.drop(df.index[[array]])\n",
    "length = df.shape[0]\n",
    "print(length)\n",
    "print(5686-11)"
   ]
  },
  {
   "cell_type": "code",
   "execution_count": 28,
   "id": "5c7497c2-a0be-4d1e-9763-6bc09c29960a",
   "metadata": {},
   "outputs": [],
   "source": [
    "#indexを振り直す\n",
    "df = df.reset_index(drop=True)"
   ]
  },
  {
   "cell_type": "code",
   "execution_count": 29,
   "id": "930d4c82-e7d1-4b34-bac1-b6d824f5e75d",
   "metadata": {},
   "outputs": [],
   "source": [
    "#アウトカウントの列を●から数字に変える\n",
    "for index,data in df.iterrows():\n",
    "    #アウトカウント列を取り出す    \n",
    "    out_count = df.iat[index,7]\n",
    "    #print(out_count)\n",
    "    #print(type(out_count))\n",
    "    \n",
    "    #もし文字列が入っていれば●の数を数える\n",
    "    if type(out_count) is str:\n",
    "        df.iat[index,7] = out_count.count(\"●\")\n",
    "    else:\n",
    "        df.iat[index,7] = 0"
   ]
  },
  {
   "cell_type": "markdown",
   "id": "9624dfe6-42c8-4ce4-b1c5-803481fc4cff",
   "metadata": {},
   "source": [
    "<b>ここまでがクレンジング部分<br>\n",
    "次からはクレンジングしたデータをcsvに出力"
   ]
  },
  {
   "cell_type": "code",
   "execution_count": 31,
   "id": "8d4e138e-85ef-4e6a-aba8-e34a7881909f",
   "metadata": {},
   "outputs": [],
   "source": [
    "df.to_csv('data_new/2_game_results_859_874_corrected.csv',index=False)"
   ]
  },
  {
   "cell_type": "code",
   "execution_count": 32,
   "id": "6c33c638-f400-4265-b0dc-7cb259f7dbab",
   "metadata": {},
   "outputs": [
    {
     "data": {
      "text/html": [
       "<div>\n",
       "<style scoped>\n",
       "    .dataframe tbody tr th:only-of-type {\n",
       "        vertical-align: middle;\n",
       "    }\n",
       "\n",
       "    .dataframe tbody tr th {\n",
       "        vertical-align: top;\n",
       "    }\n",
       "\n",
       "    .dataframe thead th {\n",
       "        text-align: right;\n",
       "    }\n",
       "</style>\n",
       "<table border=\"1\" class=\"dataframe\">\n",
       "  <thead>\n",
       "    <tr style=\"text-align: right;\">\n",
       "      <th></th>\n",
       "      <th>投球数</th>\n",
       "      <th>球種</th>\n",
       "      <th>球速</th>\n",
       "      <th>結果</th>\n",
       "      <th>投手</th>\n",
       "      <th>打者</th>\n",
       "      <th>スコア</th>\n",
       "      <th>アウトカウント</th>\n",
       "    </tr>\n",
       "  </thead>\n",
       "  <tbody>\n",
       "    <tr>\n",
       "      <th>0</th>\n",
       "      <td>1</td>\n",
       "      <td>ストレート</td>\n",
       "      <td>141km/h</td>\n",
       "      <td>見逃し</td>\n",
       "      <td>石田 健大</td>\n",
       "      <td>岡林 勇希</td>\n",
       "      <td>0-0</td>\n",
       "      <td>0</td>\n",
       "    </tr>\n",
       "    <tr>\n",
       "      <th>1</th>\n",
       "      <td>2</td>\n",
       "      <td>スライダー</td>\n",
       "      <td>129km/h</td>\n",
       "      <td>ボール</td>\n",
       "      <td>石田 健大</td>\n",
       "      <td>岡林 勇希</td>\n",
       "      <td>0-0</td>\n",
       "      <td>0</td>\n",
       "    </tr>\n",
       "    <tr>\n",
       "      <th>2</th>\n",
       "      <td>3</td>\n",
       "      <td>ストレート</td>\n",
       "      <td>143km/h</td>\n",
       "      <td>ボール</td>\n",
       "      <td>石田 健大</td>\n",
       "      <td>岡林 勇希</td>\n",
       "      <td>0-0</td>\n",
       "      <td>0</td>\n",
       "    </tr>\n",
       "    <tr>\n",
       "      <th>3</th>\n",
       "      <td>4</td>\n",
       "      <td>スライダー</td>\n",
       "      <td>127km/h</td>\n",
       "      <td>ボール</td>\n",
       "      <td>石田 健大</td>\n",
       "      <td>岡林 勇希</td>\n",
       "      <td>0-0</td>\n",
       "      <td>0</td>\n",
       "    </tr>\n",
       "    <tr>\n",
       "      <th>4</th>\n",
       "      <td>5</td>\n",
       "      <td>スライダー</td>\n",
       "      <td>124km/h</td>\n",
       "      <td>遊失  [送球できず]</td>\n",
       "      <td>石田 健大</td>\n",
       "      <td>岡林 勇希</td>\n",
       "      <td>0-0</td>\n",
       "      <td>0</td>\n",
       "    </tr>\n",
       "  </tbody>\n",
       "</table>\n",
       "</div>"
      ],
      "text/plain": [
       "   投球数     球種       球速           結果     投手     打者  スコア  アウトカウント\n",
       "0    1  ストレート  141km/h          見逃し  石田 健大  岡林 勇希  0-0        0\n",
       "1    2  スライダー  129km/h          ボール  石田 健大  岡林 勇希  0-0        0\n",
       "2    3  ストレート  143km/h          ボール  石田 健大  岡林 勇希  0-0        0\n",
       "3    4  スライダー  127km/h          ボール  石田 健大  岡林 勇希  0-0        0\n",
       "4    5  スライダー  124km/h  遊失  [送球できず]  石田 健大  岡林 勇希  0-0        0"
      ]
     },
     "metadata": {},
     "output_type": "display_data"
    },
    {
     "name": "stdout",
     "output_type": "stream",
     "text": [
      "5675\n"
     ]
    }
   ],
   "source": [
    "#データ読み込み&表示\n",
    "df = pd.read_csv('data_new/2_game_results_859_874_corrected.csv')\n",
    "display(df.head())\n",
    "length = df.shape[0]\n",
    "print(length)"
   ]
  },
  {
   "cell_type": "code",
   "execution_count": null,
   "id": "09776b30-7572-4a65-8513-27efda994417",
   "metadata": {},
   "outputs": [],
   "source": []
  },
  {
   "cell_type": "code",
   "execution_count": null,
   "id": "08cc18e0-addb-4408-a8c4-a5f377dcf41c",
   "metadata": {},
   "outputs": [],
   "source": []
  }
 ],
 "metadata": {
  "kernelspec": {
   "display_name": "Python 3 (ipykernel)",
   "language": "python",
   "name": "python3"
  },
  "language_info": {
   "codemirror_mode": {
    "name": "ipython",
    "version": 3
   },
   "file_extension": ".py",
   "mimetype": "text/x-python",
   "name": "python",
   "nbconvert_exporter": "python",
   "pygments_lexer": "ipython3",
   "version": "3.8.11"
  },
  "vscode": {
   "interpreter": {
    "hash": "9b3d359b64615d31bd83d37813109b42bf93fe413de9e027593f9283da4fd420"
   }
  }
 },
 "nbformat": 4,
 "nbformat_minor": 5
}
