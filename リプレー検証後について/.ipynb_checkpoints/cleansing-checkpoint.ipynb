{
 "cells": [
  {
   "cell_type": "code",
   "execution_count": 1,
   "id": "3acb4c42-6bf0-4d51-a8f2-56b7cb19a376",
   "metadata": {},
   "outputs": [],
   "source": [
    "import pandas as pd"
   ]
  },
  {
   "cell_type": "code",
   "execution_count": 2,
   "id": "44594adb-4c9a-4836-95b4-0636cb690dcd",
   "metadata": {},
   "outputs": [],
   "source": [
    "#データ読み込み\n",
    "#df = pd.read_csv('data/allgame_result.csv')\n",
    "df = pd.read_csv('data/1_game_results_1_100.csv')"
   ]
  },
  {
   "cell_type": "code",
   "execution_count": 3,
   "id": "2b0bf6ec-2f9a-473a-8a2b-ce8f5b90f241",
   "metadata": {},
   "outputs": [
    {
     "name": "stdout",
     "output_type": "stream",
     "text": [
      "26297\n",
      "26242\n",
      "1 阿部 寿樹\n"
     ]
    }
   ],
   "source": [
    "#データ読み出し\n",
    "#display(df.head())\n",
    "cnt = 0\n",
    "for index,data in df.iterrows():\n",
    "    #print(data)\n",
    "    #print('----')\n",
    "    #print(index)\n",
    "    cnt += 1\n",
    "    if cnt == 3:\n",
    "        break\n",
    "length = df.shape[0]\n",
    "#length = len(df)\n",
    "print(length)\n",
    "#print(df.iat[length-1,0])\n",
    "print(26297-55)\n",
    "print(df.iat[164,0],df.iat[164,5])\n",
    "print(df.iat[0,6],df.iat[0,5])"
   ]
  },
  {
   "cell_type": "code",
   "execution_count": 4,
   "id": "f3a99581-b158-4644-a0d8-1e74caaee922",
   "metadata": {},
   "outputs": [
    {
     "name": "stdout",
     "output_type": "stream",
     "text": [
      "重複していた場所は55箇所\n",
      "[164, 433, 1203, 1248, 1886, 4456, 4862, 5024, 5683, 5864, 6367, 6858, 7144, 8464, 8803, 9855, 9856, 10254, 11027, 11811, 11824, 11914, 12060, 12240, 12391, 12566, 13122, 13152, 13684, 13732, 13804, 14176, 14290, 14592, 14820, 14955, 15683, 16075, 16581, 16957, 17264, 17446, 18561, 18778, 20205, 20614, 21239, 21242, 21640, 22702, 23217, 23772, 24443, 25485, 25931]\n"
     ]
    }
   ],
   "source": [
    "#投球数が同じだけど打者も同じ行は削除する\n",
    "cnt = 0\n",
    "#length = len(df) warningが出るかも(バージョンによる)\n",
    "length = df.shape[0]\n",
    "prev_num = 0\n",
    "now_num = 0\n",
    "prev_batter = ''\n",
    "now_batter = ''\n",
    "length = df.shape[0]\n",
    "array = []\n",
    "\n",
    "for index,data in df.iterrows():\n",
    "    #最後の行まで来たらbreak\n",
    "    if index + 1 == length:\n",
    "        break\n",
    "    #投球数と打者を取り出す    \n",
    "    prev_num = df.iat[index,0]\n",
    "    now_num = df.iat[index+1,0]\n",
    "    prev_batter = df.iat[index,5]         \n",
    "    now_batter = df.iat[index+1,5]\n",
    "    #もし前後の投球数と前後の打者名が同じであればエラーなのでprev_***の行を消す\n",
    "    if (prev_num == now_num) and (prev_batter == now_batter):\n",
    "        #df = df.drop(df.index[[index]])\n",
    "        array.append(index)\n",
    "        #print(df.iat[index,0],df.iat[index,5],index)\n",
    "        #print('----')\n",
    "        cnt += 1\n",
    "        \n",
    "print('重複していた場所は'+str(cnt)+'箇所')\n",
    "print(array)"
   ]
  },
  {
   "cell_type": "code",
   "execution_count": 5,
   "id": "0be96aac-30ab-4daa-bf5f-c1b66dc54787",
   "metadata": {},
   "outputs": [
    {
     "name": "stderr",
     "output_type": "stream",
     "text": [
      "C:\\Users\\yutay\\anaconda3\\lib\\site-packages\\pandas\\core\\indexes\\base.py:4616: FutureWarning: Using a non-tuple sequence for multidimensional indexing is deprecated; use `arr[tuple(seq)]` instead of `arr[seq]`. In the future this will be interpreted as an array index, `arr[np.array(seq)]`, which will result either in an error or a different result.\n",
      "  result = getitem(key)\n"
     ]
    }
   ],
   "source": [
    "#該当箇所を削除\n",
    "#print(df.index[[array]])\n",
    "df = df.drop(df.index[[array]])"
   ]
  },
  {
   "cell_type": "code",
   "execution_count": 6,
   "id": "a63c1bd9-112f-40e7-b809-2a78956bfe4f",
   "metadata": {},
   "outputs": [
    {
     "name": "stdout",
     "output_type": "stream",
     "text": [
      "26242\n",
      "26242\n"
     ]
    }
   ],
   "source": [
    "length = df.shape[0]\n",
    "print(length)\n",
    "print(26297-55)"
   ]
  },
  {
   "cell_type": "code",
   "execution_count": 11,
   "id": "4179599f-2dda-4030-81a6-d15b1a8a8063",
   "metadata": {},
   "outputs": [],
   "source": [
    "#indexを振り直す\n",
    "df = df.reset_index(drop=True)"
   ]
  },
  {
   "cell_type": "code",
   "execution_count": 30,
   "id": "f90c974d-b7e8-4566-be81-61c151c2bdee",
   "metadata": {},
   "outputs": [],
   "source": [
    "#確認のためdf全体を表示\n",
    "#pd.set_option('display.max_rows', None)\n",
    "#pd.set_option('display.max_columns', None)\n",
    "#df"
   ]
  },
  {
   "cell_type": "code",
   "execution_count": 32,
   "id": "e3c9c917-dbbd-4c25-91a1-b0cb6be34aa3",
   "metadata": {},
   "outputs": [
    {
     "name": "stdout",
     "output_type": "stream",
     "text": [
      "重複していた場所は64箇所\n",
      "[1207, 1206, 2305, 2304, 2303, 2302, 2301, 4285, 4284, 4283, 4282, 5195, 5194, 5193, 5192, 5344, 5343, 5342, 5341, 7210, 7209, 7208, 8752, 8751, 8750, 9435, 9434, 9433, 9432, 9431, 12345, 12344, 13113, 13112, 13111, 14568, 14567, 16164, 16163, 16162, 16280, 16279, 16278, 16896, 16895, 16894, 18283, 18282, 18281, 18280, 19324, 19323, 19322, 19321, 19320, 21270, 21269, 21268, 21267, 23580, 23579, 23578, 24919, 24918]\n",
      "[1206, 1207, 2301, 2302, 2303, 2304, 2305, 4282, 4283, 4284, 4285, 5192, 5193, 5194, 5195, 5341, 5342, 5343, 5344, 7208, 7209, 7210, 8750, 8751, 8752, 9431, 9432, 9433, 9434, 9435, 12344, 12345, 13111, 13112, 13113, 14567, 14568, 16162, 16163, 16164, 16278, 16279, 16280, 16894, 16895, 16896, 18280, 18281, 18282, 18283, 19320, 19321, 19322, 19323, 19324, 21267, 21268, 21269, 21270, 23578, 23579, 23580, 24918, 24919]\n"
     ]
    }
   ],
   "source": [
    "#打者でスコアが変わっている→打者名は同じだがスコアは異なる行は削除する\n",
    "#もし打者名は前後で同じだが前後のスコアが異なる場合 \n",
    "#if prev_batter == now_batter and prev_score != now_score:こんな感じ？ \n",
    "cnt = 0\n",
    "length = df.shape[0]\n",
    "prev_score = '' #スコア列は文字列のため\n",
    "now_score = '' #スコア列は文字列のため\n",
    "prev_batter = ''\n",
    "now_batter = ''\n",
    "length = df.shape[0]\n",
    "array = []\n",
    "\n",
    "for index,data in df.iterrows():\n",
    "    #最後の行まで来たらbreak\n",
    "    if index + 1 == length:\n",
    "        break\n",
    "    \n",
    "    #スコアと打者を取り出す    \n",
    "    prev_score = df.iat[index,6]\n",
    "    now_score = df.iat[index+1,6]\n",
    "    prev_batter = df.iat[index,5]         \n",
    "    now_batter = df.iat[index+1,5]\n",
    "    \n",
    "    #もし前後で打者名が同じなのにスコアが異なる場合はエラーなのでprev_***の行を消す\n",
    "    if (prev_batter == now_batter) and (prev_score != now_score):\n",
    "        #df = df.drop(df.index[[index]])\n",
    "        array.append(index)\n",
    "        i = index\n",
    "        now_batter = df.iat[i,5]\n",
    "        i = index - 1\n",
    "        prev_batter = df.iat[i,5]\n",
    "        while now_batter == prev_batter:\n",
    "            array.append(i)\n",
    "            now_batter = prev_batter\n",
    "            i -= 1\n",
    "            prev_batter = df.iat[i,5]\n",
    "            cnt += 1\n",
    "        #print(df.iat[index,0],df.iat[index,5],index)\n",
    "        #print('----')\n",
    "        cnt += 1\n",
    "        \n",
    "print('重複していた場所は'+str(cnt)+'箇所')\n",
    "print(array)\n",
    "#print(len(array))\n",
    "array.sort()\n",
    "print(array)"
   ]
  },
  {
   "cell_type": "code",
   "execution_count": 34,
   "id": "40727b7c-3e41-4380-b299-24939bda037b",
   "metadata": {},
   "outputs": [
    {
     "name": "stderr",
     "output_type": "stream",
     "text": [
      "C:\\Users\\yutay\\anaconda3\\lib\\site-packages\\pandas\\core\\indexes\\base.py:4616: FutureWarning: Using a non-tuple sequence for multidimensional indexing is deprecated; use `arr[tuple(seq)]` instead of `arr[seq]`. In the future this will be interpreted as an array index, `arr[np.array(seq)]`, which will result either in an error or a different result.\n",
      "  result = getitem(key)\n"
     ]
    }
   ],
   "source": [
    "#該当箇所を削除\n",
    "#print(df.index[[array]])\n",
    "df = df.drop(df.index[[array]])\n"
   ]
  },
  {
   "cell_type": "code",
   "execution_count": 35,
   "id": "f2a80837-bc12-4fdb-a5aa-447c2934e531",
   "metadata": {},
   "outputs": [
    {
     "name": "stdout",
     "output_type": "stream",
     "text": [
      "26178\n",
      "26178\n"
     ]
    }
   ],
   "source": [
    "#チェック\n",
    "length = df.shape[0]\n",
    "print(length)\n",
    "print(26242-64)"
   ]
  },
  {
   "cell_type": "code",
   "execution_count": 36,
   "id": "56a52c31-45d1-4acb-90a0-cc3c19e8215b",
   "metadata": {},
   "outputs": [],
   "source": [
    "#indexを振り直す\n",
    "df = df.reset_index(drop=True)"
   ]
  },
  {
   "cell_type": "code",
   "execution_count": 38,
   "id": "771a751e-ee30-4080-82f1-ec13ce8d15d4",
   "metadata": {},
   "outputs": [],
   "source": [
    "#確認のためdf全体を表示\n",
    "#pd.set_option('display.max_rows', None)\n",
    "#pd.set_option('display.max_columns', None)\n",
    "#df"
   ]
  },
  {
   "cell_type": "code",
   "execution_count": null,
   "id": "5cdf3446-c969-4dfc-b858-dd8ffb73eb7a",
   "metadata": {},
   "outputs": [],
   "source": [
    "#投球数が同じだけど打者も同じ行は削除する\n",
    "cnt = 0\n",
    "array = []\n",
    "array2 = []\n",
    "#length = len(df) warningが出るかも(バージョンによる)\n",
    "length = df.shape[0]\n",
    "for index,data in df.iterrows():\n",
    "    if ('リプレー検証' in data['結果']) or ('リプレー検証後判定変わらず' in data['結果']) or ('リプレー検証後判定覆る' in data['結果']):\n",
    "        cnt += 1\n",
    "        if cnt == 10:\n",
    "            break\n",
    "        prev = 0\n",
    "        now = 0\n",
    "        for i in range(index+1,length):\n",
    "            prev = df.iat[i,0]\n",
    "            now = df.iat[i+1,0]\n",
    "            if prev > now:\n",
    "                array.append(df.iat[i,3])\n",
    "                array.append(i)\n",
    "                break\n",
    "                \n",
    "                \n",
    "        \n",
    "        #for i in ここに該当プレー後のプレイ全体:\n",
    "            #もし結果がすでに出ていれば(ボール、見逃し、空振り、ファウル以外)\n",
    "            #その結果を配列などのデータセットに入れる\n",
    "            #そうでなければ結果がでるまで続行\n",
    "print(array)"
   ]
  }
 ],
 "metadata": {
  "kernelspec": {
   "display_name": "Python 3 (ipykernel)",
   "language": "python",
   "name": "python3"
  },
  "language_info": {
   "codemirror_mode": {
    "name": "ipython",
    "version": 3
   },
   "file_extension": ".py",
   "mimetype": "text/x-python",
   "name": "python",
   "nbconvert_exporter": "python",
   "pygments_lexer": "ipython3",
   "version": "3.8.11"
  }
 },
 "nbformat": 4,
 "nbformat_minor": 5
}
