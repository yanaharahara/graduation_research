{
 "cells": [
  {
   "cell_type": "code",
   "execution_count": 1,
   "id": "40490b43-730a-48c3-b381-f0f7a6788873",
   "metadata": {},
   "outputs": [],
   "source": [
    "import pandas as pd"
   ]
  },
  {
   "cell_type": "code",
   "execution_count": 2,
   "id": "b9028039-6af0-450c-8216-a9b0de3529ce",
   "metadata": {},
   "outputs": [
    {
     "data": {
      "text/html": [
       "<div>\n",
       "<style scoped>\n",
       "    .dataframe tbody tr th:only-of-type {\n",
       "        vertical-align: middle;\n",
       "    }\n",
       "\n",
       "    .dataframe tbody tr th {\n",
       "        vertical-align: top;\n",
       "    }\n",
       "\n",
       "    .dataframe thead th {\n",
       "        text-align: right;\n",
       "    }\n",
       "</style>\n",
       "<table border=\"1\" class=\"dataframe\">\n",
       "  <thead>\n",
       "    <tr style=\"text-align: right;\">\n",
       "      <th></th>\n",
       "      <th>投球数</th>\n",
       "      <th>球種</th>\n",
       "      <th>球速</th>\n",
       "      <th>結果</th>\n",
       "      <th>投手</th>\n",
       "      <th>打者</th>\n",
       "      <th>スコア</th>\n",
       "    </tr>\n",
       "  </thead>\n",
       "  <tbody>\n",
       "    <tr>\n",
       "      <th>0</th>\n",
       "      <td>1</td>\n",
       "      <td>ストレート</td>\n",
       "      <td>147km/h</td>\n",
       "      <td>中飛</td>\n",
       "      <td>菅野 智之</td>\n",
       "      <td>大島 洋平</td>\n",
       "      <td>0-0</td>\n",
       "    </tr>\n",
       "    <tr>\n",
       "      <th>1</th>\n",
       "      <td>1</td>\n",
       "      <td>ストレート</td>\n",
       "      <td>144km/h</td>\n",
       "      <td>ボール</td>\n",
       "      <td>菅野 智之</td>\n",
       "      <td>岡林 勇希</td>\n",
       "      <td>0-0</td>\n",
       "    </tr>\n",
       "    <tr>\n",
       "      <th>2</th>\n",
       "      <td>2</td>\n",
       "      <td>カットボール</td>\n",
       "      <td>139km/h</td>\n",
       "      <td>見逃し</td>\n",
       "      <td>菅野 智之</td>\n",
       "      <td>岡林 勇希</td>\n",
       "      <td>0-0</td>\n",
       "    </tr>\n",
       "    <tr>\n",
       "      <th>3</th>\n",
       "      <td>3</td>\n",
       "      <td>スライダー</td>\n",
       "      <td>132km/h</td>\n",
       "      <td>二ゴロ</td>\n",
       "      <td>菅野 智之</td>\n",
       "      <td>岡林 勇希</td>\n",
       "      <td>0-0</td>\n",
       "    </tr>\n",
       "    <tr>\n",
       "      <th>4</th>\n",
       "      <td>1</td>\n",
       "      <td>ツーシーム</td>\n",
       "      <td>147km/h</td>\n",
       "      <td>ボール</td>\n",
       "      <td>菅野 智之</td>\n",
       "      <td>福留 孝介</td>\n",
       "      <td>0-0</td>\n",
       "    </tr>\n",
       "  </tbody>\n",
       "</table>\n",
       "</div>"
      ],
      "text/plain": [
       "   投球数      球種       球速   結果     投手     打者  スコア\n",
       "0    1   ストレート  147km/h   中飛  菅野 智之  大島 洋平  0-0\n",
       "1    1   ストレート  144km/h  ボール  菅野 智之  岡林 勇希  0-0\n",
       "2    2  カットボール  139km/h  見逃し  菅野 智之  岡林 勇希  0-0\n",
       "3    3   スライダー  132km/h  二ゴロ  菅野 智之  岡林 勇希  0-0\n",
       "4    1   ツーシーム  147km/h  ボール  菅野 智之  福留 孝介  0-0"
      ]
     },
     "metadata": {},
     "output_type": "display_data"
    },
    {
     "name": "stdout",
     "output_type": "stream",
     "text": [
      "26297\n"
     ]
    }
   ],
   "source": [
    "#データ読み込み&表示\n",
    "#df = pd.read_csv('data/allgame_result.csv')\n",
    "df = pd.read_csv('data/1_game_results_1_100.csv')\n",
    "display(df.head())\n",
    "length = df.shape[0]\n",
    "print(length)"
   ]
  },
  {
   "cell_type": "code",
   "execution_count": 3,
   "id": "db0a6a9f-b9f1-4cf7-8857-b87a90eaf3aa",
   "metadata": {},
   "outputs": [
    {
     "name": "stdout",
     "output_type": "stream",
     "text": [
      "重複していた場所は55箇所\n",
      "[164, 433, 1203, 1248, 1886, 4456, 4862, 5024, 5683, 5864, 6367, 6858, 7144, 8464, 8803, 9855, 9856, 10254, 11027, 11811, 11824, 11914, 12060, 12240, 12391, 12566, 13122, 13152, 13684, 13732, 13804, 14176, 14290, 14592, 14820, 14955, 15683, 16075, 16581, 16957, 17264, 17446, 18561, 18778, 20205, 20614, 21239, 21242, 21640, 22702, 23217, 23772, 24443, 25485, 25931]\n"
     ]
    }
   ],
   "source": [
    "#前後で投球数が同じでかつ打者も同じ行は削除する\n",
    "cnt = 0\n",
    "length = df.shape[0]\n",
    "prev_num = 0\n",
    "now_num = 0\n",
    "prev_batter = ''\n",
    "now_batter = ''\n",
    "length = df.shape[0]\n",
    "array = []\n",
    "\n",
    "for index,data in df.iterrows():\n",
    "    #最後の行まで来たらbreak\n",
    "    if index + 1 == length:\n",
    "        break\n",
    "    #投球数と打者を取り出す    \n",
    "    prev_num = df.iat[index,0]\n",
    "    now_num = df.iat[index+1,0]\n",
    "    prev_batter = df.iat[index,5]         \n",
    "    now_batter = df.iat[index+1,5]\n",
    "    #もし前後の投球数と前後の打者名が同じであればエラーなのでprev_***の行を消す\n",
    "    if (prev_num == now_num) and (prev_batter == now_batter):\n",
    "        array.append(index)\n",
    "        cnt += 1\n",
    "        \n",
    "print('重複していた場所は'+str(cnt)+'箇所')\n",
    "print(array)"
   ]
  },
  {
   "cell_type": "code",
   "execution_count": 4,
   "id": "6c2b9f41-8d1c-41b0-9abb-bc4aa59ce75c",
   "metadata": {},
   "outputs": [
    {
     "name": "stdout",
     "output_type": "stream",
     "text": [
      "26242\n",
      "26242\n"
     ]
    },
    {
     "name": "stderr",
     "output_type": "stream",
     "text": [
      "C:\\Users\\yutay\\anaconda3\\lib\\site-packages\\pandas\\core\\indexes\\base.py:4616: FutureWarning: Using a non-tuple sequence for multidimensional indexing is deprecated; use `arr[tuple(seq)]` instead of `arr[seq]`. In the future this will be interpreted as an array index, `arr[np.array(seq)]`, which will result either in an error or a different result.\n",
      "  result = getitem(key)\n"
     ]
    }
   ],
   "source": [
    "#該当箇所を削除&データフレームの該当箇所が削除されたかを確認\n",
    "df = df.drop(df.index[[array]])\n",
    "length = df.shape[0]\n",
    "print(length)\n",
    "print(26297-55)"
   ]
  },
  {
   "cell_type": "code",
   "execution_count": 5,
   "id": "c6833bd5-7986-4023-a349-17c42a118f93",
   "metadata": {},
   "outputs": [],
   "source": [
    "#indexを振り直す\n",
    "df = df.reset_index(drop=True)"
   ]
  },
  {
   "cell_type": "code",
   "execution_count": 6,
   "id": "4a69a0bf-09eb-43a2-a4e4-879e934c1db5",
   "metadata": {},
   "outputs": [],
   "source": [
    "#確認のためdf全体を表示\n",
    "#pd.set_option('display.max_rows', None)\n",
    "#pd.set_option('display.max_columns', None)\n",
    "#df"
   ]
  },
  {
   "cell_type": "code",
   "execution_count": 7,
   "id": "c8865bce-4ea0-44c8-8f82-69deb856caed",
   "metadata": {},
   "outputs": [
    {
     "name": "stdout",
     "output_type": "stream",
     "text": [
      "重複していた場所は64箇所\n",
      "[1207, 1206, 2305, 2304, 2303, 2302, 2301, 4285, 4284, 4283, 4282, 5195, 5194, 5193, 5192, 5344, 5343, 5342, 5341, 7210, 7209, 7208, 8752, 8751, 8750, 9435, 9434, 9433, 9432, 9431, 12345, 12344, 13113, 13112, 13111, 14568, 14567, 16164, 16163, 16162, 16280, 16279, 16278, 16896, 16895, 16894, 18283, 18282, 18281, 18280, 19324, 19323, 19322, 19321, 19320, 21270, 21269, 21268, 21267, 23580, 23579, 23578, 24919, 24918]\n",
      "[1206, 1207, 2301, 2302, 2303, 2304, 2305, 4282, 4283, 4284, 4285, 5192, 5193, 5194, 5195, 5341, 5342, 5343, 5344, 7208, 7209, 7210, 8750, 8751, 8752, 9431, 9432, 9433, 9434, 9435, 12344, 12345, 13111, 13112, 13113, 14567, 14568, 16162, 16163, 16164, 16278, 16279, 16280, 16894, 16895, 16896, 18280, 18281, 18282, 18283, 19320, 19321, 19322, 19323, 19324, 21267, 21268, 21269, 21270, 23578, 23579, 23580, 24918, 24919]\n"
     ]
    }
   ],
   "source": [
    "#打者でスコアが変わっている→打者名は同じだがスコアは異なる行は削除する\n",
    "#もし打者名は前後で同じだが前後のスコアが異なる場合 \n",
    "cnt = 0\n",
    "length = df.shape[0]\n",
    "prev_score = '' #スコア列は文字列のため\n",
    "now_score = '' #スコア列は文字列のため\n",
    "prev_batter = ''\n",
    "now_batter = ''\n",
    "length = df.shape[0]\n",
    "array = []\n",
    "\n",
    "for index,data in df.iterrows():\n",
    "    #最後の行まで来たらbreak\n",
    "    if index + 1 == length:\n",
    "        break\n",
    "    \n",
    "    #スコアと打者を取り出す    \n",
    "    prev_score = df.iat[index,6]\n",
    "    now_score = df.iat[index+1,6]\n",
    "    prev_batter = df.iat[index,5]         \n",
    "    now_batter = df.iat[index+1,5]\n",
    "    \n",
    "    #もし前後で打者名が同じなのにスコアが異なる場合はエラーなのでprev_***の行を消す\n",
    "    if (prev_batter == now_batter) and (prev_score != now_score):\n",
    "        array.append(index)\n",
    "        i = index\n",
    "        now_batter = df.iat[i,5]\n",
    "        i = index - 1\n",
    "        prev_batter = df.iat[i,5]\n",
    "        while now_batter == prev_batter:\n",
    "            array.append(i)\n",
    "            now_batter = prev_batter\n",
    "            i -= 1\n",
    "            prev_batter = df.iat[i,5]\n",
    "            cnt += 1\n",
    "        cnt += 1\n",
    "        \n",
    "print('重複していた場所は'+str(cnt)+'箇所')\n",
    "print(array)\n",
    "#昇順にソート\n",
    "array.sort()\n",
    "print(array)"
   ]
  },
  {
   "cell_type": "code",
   "execution_count": 8,
   "id": "4d04576c-5542-4efa-8618-bb8439126c10",
   "metadata": {},
   "outputs": [
    {
     "name": "stdout",
     "output_type": "stream",
     "text": [
      "26178\n",
      "26178\n"
     ]
    }
   ],
   "source": [
    "#該当箇所を削除＆チェック\n",
    "df = df.drop(df.index[[array]])\n",
    "length = df.shape[0]\n",
    "print(length)\n",
    "print(26242-64)"
   ]
  },
  {
   "cell_type": "code",
   "execution_count": 9,
   "id": "d9590fda-b0fc-4cc9-a28b-5e6827cfb5a1",
   "metadata": {},
   "outputs": [],
   "source": [
    "#indexを振り直す\n",
    "df = df.reset_index(drop=True)"
   ]
  },
  {
   "cell_type": "code",
   "execution_count": 10,
   "id": "697ee112-b3f6-4146-9aa4-104f7bee2d7f",
   "metadata": {},
   "outputs": [],
   "source": [
    "#確認のためdf全体を表示\n",
    "#pd.set_option('display.max_rows', None)\n",
    "#pd.set_option('display.max_columns', None)\n",
    "#df"
   ]
  },
  {
   "cell_type": "markdown",
   "id": "871281f7-c998-4719-9682-5e0aec17f72f",
   "metadata": {},
   "source": [
    "<b>ここまでがクレンジング部分"
   ]
  },
  {
   "cell_type": "code",
   "execution_count": 11,
   "id": "0717495f-af7c-4819-8418-76d5abb4e635",
   "metadata": {},
   "outputs": [
    {
     "data": {
      "text/plain": [
       "\"\\ndf['アウトカウント'] = 0\\ndisplay(df.head())\\n\\n#アウトカウントのカラムを追加する。\\ncnt = 0\\nfor index,data in df.iterrows():\\n    if (not '安' in data['結果']) and (not '本' in data['結果']) and (not '野選' in data['結果']):\\n        if ('併打' in data['結果']):\\n            #2アウト追加\\n            cnt += 2\\n            df.iat[index,7] = cnt\\n        else:\\n            #1アウト追加\\n            cnt += 1\\n            df.iat[index,7] = cnt\\n    if cnt == 3:#アウトカウントが3なら\\n        #アウトカウントを0にする\\n        cnt = 0\\n#print(cnt)\\n\""
      ]
     },
     "execution_count": 11,
     "metadata": {},
     "output_type": "execute_result"
    }
   ],
   "source": [
    "\"\"\"\n",
    "df['アウトカウント'] = 0\n",
    "display(df.head())\n",
    "\n",
    "#アウトカウントのカラムを追加する。\n",
    "cnt = 0\n",
    "for index,data in df.iterrows():\n",
    "    if (not '安' in data['結果']) and (not '本' in data['結果']) and (not '野選' in data['結果']):\n",
    "        if ('併打' in data['結果']):\n",
    "            #2アウト追加\n",
    "            cnt += 2\n",
    "            df.iat[index,7] = cnt\n",
    "        else:\n",
    "            #1アウト追加\n",
    "            cnt += 1\n",
    "            df.iat[index,7] = cnt\n",
    "    if cnt == 3:#アウトカウントが3なら\n",
    "        #アウトカウントを0にする\n",
    "        cnt = 0\n",
    "#print(cnt)\n",
    "\"\"\""
   ]
  },
  {
   "cell_type": "code",
   "execution_count": 12,
   "id": "06851b0c-28a5-48a6-a9fa-0e8e5ed8a91c",
   "metadata": {},
   "outputs": [],
   "source": [
    "#pd.set_option('display.max_rows', None)\n",
    "#pd.set_option('display.max_columns', None)\n",
    "#df"
   ]
  },
  {
   "cell_type": "code",
   "execution_count": 13,
   "id": "56b81273-ba28-4bc6-bb5c-7b68507bd4ea",
   "metadata": {},
   "outputs": [
    {
     "name": "stdout",
     "output_type": "stream",
     "text": [
      "63\n"
     ]
    }
   ],
   "source": [
    "#リプレー検証の該当プレーの数を確認\n",
    "cnt = 0\n",
    "for index,data in df.iterrows():\n",
    "    if ('リプレー検証' in data['結果']) or ('リプレー検証後判定変わらず' in data['結果']) or ('リプレー検証後判定覆る' in data['結果']):\n",
    "        #print(data['結果'],index)\n",
    "        cnt += 1\n",
    "print(cnt)        "
   ]
  },
  {
   "cell_type": "code",
   "execution_count": 14,
   "id": "eb298b8c-fc8b-4246-9c45-085c7452bb9a",
   "metadata": {},
   "outputs": [
    {
     "name": "stdout",
     "output_type": "stream",
     "text": [
      "['中２  [フェンス直撃]', '遊ゴロ', '左２  [泳ぎ、バットの先、内野一塁寄り]', '投ゴロ', '四球  [ワンバウンド、ランエンドヒット]', '左飛  [高々と舞い上がる]', '投犠打', '中飛', '四球', '四球', '三邪飛', '中飛', '一ゴロ  [走者動けず]', '中２  [目測を誤る]', '右２', '中２', '空三振', '遊ゴロ  [止めたバットに当たる、ランニングスロー]', '空三振', '一犠打', '遊飛  [詰り]', '中飛', '一ゴロ  [詰り]', '右２  [ライン際]', '空三振', '右安  [泳ぎ]', '空三振', '中飛', '中安', 'ボール  [ワンバウンド]', '中２', '三邪飛', '右安', '右安', '右安', '遊失', '空三振', '中飛', '二ゴロ  [バットの先]', '四球', 'ボール', '見三振', '右飛', '三ゴロ', '犠打失', '遊飛  [泳ぎ]', '中飛', '遊飛  [泳ぎ、バットの先、インフィールドフライ]', '見逃し', '右飛', '二ゴロ', '二ゴロ', '中安', '空三振  [投手吼える]', '遊併打  [悔しがる]', '四球', '左飛  [バットの先]', '投ゴロ', '二ゴロ', '遊飛', '空三振', '遊直', '三犠打  [セーフティバント]']\n",
      "63\n",
      "63\n"
     ]
    }
   ],
   "source": [
    "#1行ずつ取り出したforループでリプレー検証後に関わるプレーを取り出す\n",
    "cnt = 0\n",
    "array = []\n",
    "length = df.shape[0]\n",
    "for index,data in df.iterrows():\n",
    "    if ('リプレー検証' in data['結果']) or ('リプレー検証後判定変わらず' in data['結果']) or ('リプレー検証後判定覆る' in data['結果']):\n",
    "        cnt += 1\n",
    "        #if cnt == 10:\n",
    "            #break\n",
    "        prev = 0\n",
    "        now = 0\n",
    "        \n",
    "        for i in range(index+1,length):\n",
    "            prev = df.iat[i, 0]\n",
    "            if i==length-1:\n",
    "                array.append(df.iat[i,3])\n",
    "                break\n",
    "            else:\n",
    "                now = df.iat[i+1,0]\n",
    "                if prev >= now:\n",
    "                    array.append(df.iat[i,3])\n",
    "                    break\n",
    "        \n",
    "        \"\"\"\n",
    "        #もともと自分で書いたやつ\n",
    "        for i in range(index+1,length):\n",
    "            prev = df.iat[i,0]\n",
    "            now = df.iat[i+1,0]\n",
    "            if prev >= now: #＞ではなく＞＝(リプレー後初球で決着してしまう場合を考慮)\n",
    "                array.append(df.iat[i,3])\n",
    "                #array.append(i) iはindex番号のこと。コメントを外すとindex番号がarrayに追加される\n",
    "                break\n",
    "        \"\"\"        \n",
    "                \n",
    "                \n",
    "        \n",
    "        #for i in ここに該当プレー後のプレイ全体:\n",
    "            #もし結果がすでに出ていれば(ボール、見逃し、空振り、ファウル以外)\n",
    "            #その結果を配列などのデータセットに入れる\n",
    "            #そうでなければ結果がでるまで続行\n",
    "print(array)\n",
    "print(cnt)\n",
    "print(len(array))"
   ]
  },
  {
   "cell_type": "markdown",
   "id": "543beb3f-a326-4a00-b819-c3a3beedecd3",
   "metadata": {},
   "source": [
    "<b>できた部分とそうでない部分<br></b>\n",
    "〇　データフレームの前後で投球数と打者が一緒なのはエラーだから消す<br>\n",
    "〇　打者でスコアが変わっている→エラーだからけす<br>\n",
    "〇　index+1の投球数を記録してから前後の投球数を見る。prevなどの変数で保存しておいて比較する<br>\n",
    "未　イニングがリプレー検証に関わるプレーの時に終わっていたら、その後のプレーをarray(リプレイ検証後のプレー)に入れない<br>\n",
    "未　試合がリプレー検証に関わるプレーの時に終わっていたら、その後のプレーをarray(リプレイ検証後のプレー)に入れない<br>"
   ]
  },
  {
   "cell_type": "code",
   "execution_count": 16,
   "id": "069dcac6-8cc1-47ec-8373-4a7898121a01",
   "metadata": {},
   "outputs": [],
   "source": [
    "#次のスコアが0-0だったら試合がリプレー検証で終わっているといえるかも？"
   ]
  },
  {
   "cell_type": "code",
   "execution_count": 17,
   "id": "06c822ba-6966-49c0-b898-9e8b9a0b3a6c",
   "metadata": {},
   "outputs": [],
   "source": [
    "#アウトカウントのカラムを追加する。"
   ]
  },
  {
   "cell_type": "code",
   "execution_count": null,
   "id": "0828473c-8a48-4d9e-a74c-96cf2b15d432",
   "metadata": {},
   "outputs": [],
   "source": []
  }
 ],
 "metadata": {
  "kernelspec": {
   "display_name": "Python 3 (ipykernel)",
   "language": "python",
   "name": "python3"
  },
  "language_info": {
   "codemirror_mode": {
    "name": "ipython",
    "version": 3
   },
   "file_extension": ".py",
   "mimetype": "text/x-python",
   "name": "python",
   "nbconvert_exporter": "python",
   "pygments_lexer": "ipython3",
   "version": "3.8.11"
  }
 },
 "nbformat": 4,
 "nbformat_minor": 5
}
