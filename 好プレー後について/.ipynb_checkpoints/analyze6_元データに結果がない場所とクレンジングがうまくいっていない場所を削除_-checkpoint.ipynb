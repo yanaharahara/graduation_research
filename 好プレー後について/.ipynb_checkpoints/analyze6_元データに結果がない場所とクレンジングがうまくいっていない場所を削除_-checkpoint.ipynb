{
 "cells": [
  {
   "cell_type": "code",
   "execution_count": 5,
   "id": "c0bf8217-2e46-4b1d-9589-915cbe6ef82f",
   "metadata": {},
   "outputs": [],
   "source": [
    "import pandas as pd"
   ]
  },
  {
   "cell_type": "code",
   "execution_count": 6,
   "id": "6e43f74c-a21b-40a4-9645-815b71b23d44",
   "metadata": {},
   "outputs": [
    {
     "data": {
      "text/html": [
       "<div>\n",
       "<style scoped>\n",
       "    .dataframe tbody tr th:only-of-type {\n",
       "        vertical-align: middle;\n",
       "    }\n",
       "\n",
       "    .dataframe tbody tr th {\n",
       "        vertical-align: top;\n",
       "    }\n",
       "\n",
       "    .dataframe thead th {\n",
       "        text-align: right;\n",
       "    }\n",
       "</style>\n",
       "<table border=\"1\" class=\"dataframe\">\n",
       "  <thead>\n",
       "    <tr style=\"text-align: right;\">\n",
       "      <th></th>\n",
       "      <th>投球数</th>\n",
       "      <th>球種</th>\n",
       "      <th>球速</th>\n",
       "      <th>結果</th>\n",
       "      <th>投手</th>\n",
       "      <th>打者</th>\n",
       "      <th>スコア</th>\n",
       "      <th>アウトカウント</th>\n",
       "    </tr>\n",
       "  </thead>\n",
       "  <tbody>\n",
       "    <tr>\n",
       "      <th>0</th>\n",
       "      <td>1</td>\n",
       "      <td>ストレート</td>\n",
       "      <td>147km/h</td>\n",
       "      <td>中飛</td>\n",
       "      <td>菅野 智之</td>\n",
       "      <td>大島 洋平</td>\n",
       "      <td>0-0</td>\n",
       "      <td>1</td>\n",
       "    </tr>\n",
       "    <tr>\n",
       "      <th>1</th>\n",
       "      <td>1</td>\n",
       "      <td>ストレート</td>\n",
       "      <td>144km/h</td>\n",
       "      <td>ボール</td>\n",
       "      <td>菅野 智之</td>\n",
       "      <td>岡林 勇希</td>\n",
       "      <td>0-0</td>\n",
       "      <td>2</td>\n",
       "    </tr>\n",
       "    <tr>\n",
       "      <th>2</th>\n",
       "      <td>2</td>\n",
       "      <td>カットボール</td>\n",
       "      <td>139km/h</td>\n",
       "      <td>見逃し</td>\n",
       "      <td>菅野 智之</td>\n",
       "      <td>岡林 勇希</td>\n",
       "      <td>0-0</td>\n",
       "      <td>2</td>\n",
       "    </tr>\n",
       "    <tr>\n",
       "      <th>3</th>\n",
       "      <td>3</td>\n",
       "      <td>スライダー</td>\n",
       "      <td>132km/h</td>\n",
       "      <td>二ゴロ</td>\n",
       "      <td>菅野 智之</td>\n",
       "      <td>岡林 勇希</td>\n",
       "      <td>0-0</td>\n",
       "      <td>2</td>\n",
       "    </tr>\n",
       "    <tr>\n",
       "      <th>4</th>\n",
       "      <td>1</td>\n",
       "      <td>ツーシーム</td>\n",
       "      <td>147km/h</td>\n",
       "      <td>ボール</td>\n",
       "      <td>菅野 智之</td>\n",
       "      <td>福留 孝介</td>\n",
       "      <td>0-0</td>\n",
       "      <td>3</td>\n",
       "    </tr>\n",
       "  </tbody>\n",
       "</table>\n",
       "</div>"
      ],
      "text/plain": [
       "   投球数      球種       球速   結果     投手     打者  スコア  アウトカウント\n",
       "0    1   ストレート  147km/h   中飛  菅野 智之  大島 洋平  0-0        1\n",
       "1    1   ストレート  144km/h  ボール  菅野 智之  岡林 勇希  0-0        2\n",
       "2    2  カットボール  139km/h  見逃し  菅野 智之  岡林 勇希  0-0        2\n",
       "3    3   スライダー  132km/h  二ゴロ  菅野 智之  岡林 勇希  0-0        2\n",
       "4    1   ツーシーム  147km/h  ボール  菅野 智之  福留 孝介  0-0        3"
      ]
     },
     "metadata": {},
     "output_type": "display_data"
    },
    {
     "name": "stdout",
     "output_type": "stream",
     "text": [
      "243709\n"
     ]
    }
   ],
   "source": [
    "#データ読み込み&表示\n",
    "#df = pd.read_csv('data/allgame_result.csv')\n",
    "df = pd.read_csv('../data_new/allgame_result_corrected.csv')\n",
    "display(df.head())\n",
    "length = df.shape[0]\n",
    "print(length)"
   ]
  },
  {
   "cell_type": "code",
   "execution_count": 18,
   "id": "c9e6080e-a1a9-42e1-9c37-712225091fad",
   "metadata": {},
   "outputs": [
    {
     "data": {
      "text/plain": [
       "125111    ボール\n",
       "Name: 結果, dtype: object"
      ]
     },
     "execution_count": 18,
     "metadata": {},
     "output_type": "execute_result"
    }
   ],
   "source": [
    "df[125111:125112]['結果']"
   ]
  },
  {
   "cell_type": "code",
   "execution_count": 19,
   "id": "b2a4628b-dec7-4dea-8e63-891512c309be",
   "metadata": {},
   "outputs": [
    {
     "name": "stderr",
     "output_type": "stream",
     "text": [
      "C:\\Users\\yutay\\AppData\\Local\\Temp/ipykernel_3136/1706351890.py:1: SettingWithCopyWarning: \n",
      "A value is trying to be set on a copy of a slice from a DataFrame.\n",
      "Try using .loc[row_indexer,col_indexer] = value instead\n",
      "\n",
      "See the caveats in the documentation: https://pandas.pydata.org/pandas-docs/stable/user_guide/indexing.html#returning-a-view-versus-a-copy\n",
      "  df[125111:125112]['結果'] = '四球  [申告敬遠]'\n"
     ]
    }
   ],
   "source": [
    "df[125111:125112]['結果'] = '四球  [申告敬遠]'"
   ]
  },
  {
   "cell_type": "code",
   "execution_count": 20,
   "id": "11b09870-b191-48dd-a853-981487a1ad84",
   "metadata": {},
   "outputs": [
    {
     "data": {
      "text/plain": [
       "125109    二ゴロ  [ダイビングキャッチ、好プレイ]\n",
       "125110            ボール  [ワンバウンド]\n",
       "125111               四球  [申告敬遠]\n",
       "125112            ボール  [ワンバウンド]\n",
       "125113                      見逃し\n",
       "125114                      空振り\n",
       "125115                     ファウル\n",
       "Name: 結果, dtype: object"
      ]
     },
     "execution_count": 20,
     "metadata": {},
     "output_type": "execute_result"
    }
   ],
   "source": [
    "df[125109:125116]['結果']"
   ]
  },
  {
   "cell_type": "code",
   "execution_count": 25,
   "id": "ae48b5b2-a951-4309-b26d-b1caa50889f1",
   "metadata": {},
   "outputs": [
    {
     "data": {
      "text/plain": [
       "166476    ボール\n",
       "Name: 結果, dtype: object"
      ]
     },
     "execution_count": 25,
     "metadata": {},
     "output_type": "execute_result"
    }
   ],
   "source": [
    "df[166476:166477]['結果']"
   ]
  },
  {
   "cell_type": "code",
   "execution_count": 26,
   "id": "3ca51cfc-6b5a-4965-8153-9dd03503383c",
   "metadata": {},
   "outputs": [
    {
     "name": "stderr",
     "output_type": "stream",
     "text": [
      "C:\\Users\\yutay\\AppData\\Local\\Temp/ipykernel_3136/2650820832.py:1: SettingWithCopyWarning: \n",
      "A value is trying to be set on a copy of a slice from a DataFrame.\n",
      "Try using .loc[row_indexer,col_indexer] = value instead\n",
      "\n",
      "See the caveats in the documentation: https://pandas.pydata.org/pandas-docs/stable/user_guide/indexing.html#returning-a-view-versus-a-copy\n",
      "  df[166476:166477]['結果'] = '四球  [申告敬遠]'\n"
     ]
    }
   ],
   "source": [
    "df[166476:166477]['結果'] = '四球  [申告敬遠]'"
   ]
  },
  {
   "cell_type": "code",
   "execution_count": 27,
   "id": "32970105-24c4-4db9-93bd-44f1ebcc116b",
   "metadata": {},
   "outputs": [
    {
     "data": {
      "text/plain": [
       "166473    一直  [野手の正面をつく、ジャンピングキャッチ]\n",
       "166474             ボール  [高めのつり球を要求]\n",
       "166475                          ボール\n",
       "166476                   四球  [申告敬遠]\n",
       "166477                          三ゴロ\n",
       "Name: 結果, dtype: object"
      ]
     },
     "execution_count": 27,
     "metadata": {},
     "output_type": "execute_result"
    }
   ],
   "source": [
    "df[166473:166478]['結果']"
   ]
  },
  {
   "cell_type": "code",
   "execution_count": 30,
   "id": "136b3de2-2f89-468e-8ccc-2870313b3eb6",
   "metadata": {},
   "outputs": [
    {
     "data": {
      "text/plain": [
       "171949    ボール\n",
       "Name: 結果, dtype: object"
      ]
     },
     "execution_count": 30,
     "metadata": {},
     "output_type": "execute_result"
    }
   ],
   "source": [
    "df[171949:171950]['結果']"
   ]
  },
  {
   "cell_type": "code",
   "execution_count": 31,
   "id": "84c94280-5cf1-43bc-9a3b-66f7f19079fb",
   "metadata": {},
   "outputs": [
    {
     "name": "stderr",
     "output_type": "stream",
     "text": [
      "C:\\Users\\yutay\\AppData\\Local\\Temp/ipykernel_3136/1467816686.py:1: SettingWithCopyWarning: \n",
      "A value is trying to be set on a copy of a slice from a DataFrame.\n",
      "Try using .loc[row_indexer,col_indexer] = value instead\n",
      "\n",
      "See the caveats in the documentation: https://pandas.pydata.org/pandas-docs/stable/user_guide/indexing.html#returning-a-view-versus-a-copy\n",
      "  df[171949:171950]['結果'] = '四球  [申告敬遠]'\n"
     ]
    }
   ],
   "source": [
    "df[171949:171950]['結果'] = '四球  [申告敬遠]'"
   ]
  },
  {
   "cell_type": "code",
   "execution_count": 32,
   "id": "c44dda36-0483-48b6-9c8b-44e96fc64113",
   "metadata": {},
   "outputs": [
    {
     "data": {
      "text/plain": [
       "171945    二ゴロ  [内野前進、ヘッドスライディング、好プレイ]\n",
       "171946                            空振り\n",
       "171947                            ボール\n",
       "171948                            ボール\n",
       "171949                     四球  [申告敬遠]\n",
       "171950                            見逃し\n",
       "171951                            ボール\n",
       "Name: 結果, dtype: object"
      ]
     },
     "execution_count": 32,
     "metadata": {},
     "output_type": "execute_result"
    }
   ],
   "source": [
    "df[171945:171952]['結果']"
   ]
  },
  {
   "cell_type": "code",
   "execution_count": 34,
   "id": "bf23beec-11e4-4a14-8d70-3fa161edac72",
   "metadata": {},
   "outputs": [
    {
     "data": {
      "text/plain": [
       "173213    一ゴロ\n",
       "Name: 結果, dtype: object"
      ]
     },
     "execution_count": 34,
     "metadata": {},
     "output_type": "execute_result"
    }
   ],
   "source": [
    "df[173213:173214]['結果']"
   ]
  },
  {
   "cell_type": "code",
   "execution_count": 35,
   "id": "e9a4b4db-f5b8-4234-8f1c-65f42a052dde",
   "metadata": {},
   "outputs": [
    {
     "name": "stderr",
     "output_type": "stream",
     "text": [
      "C:\\Users\\yutay\\AppData\\Local\\Temp/ipykernel_3136/2554423776.py:1: SettingWithCopyWarning: \n",
      "A value is trying to be set on a copy of a slice from a DataFrame.\n",
      "Try using .loc[row_indexer,col_indexer] = value instead\n",
      "\n",
      "See the caveats in the documentation: https://pandas.pydata.org/pandas-docs/stable/user_guide/indexing.html#returning-a-view-versus-a-copy\n",
      "  df[173213:173214]['結果'] = '一ゴロ  [投手捕球ミスのため出塁]'\n"
     ]
    }
   ],
   "source": [
    "df[173213:173214]['結果'] = '一ゴロ  [投手捕球ミスのため出塁]'"
   ]
  },
  {
   "cell_type": "code",
   "execution_count": 36,
   "id": "698c6aad-6918-4017-ad97-384a99024d6e",
   "metadata": {},
   "outputs": [
    {
     "data": {
      "text/plain": [
       "173213    一ゴロ  [投手捕球ミスのため出塁]\n",
       "173214         ボール  [ワンバウンド]\n",
       "173215                   ボール\n",
       "173216                   ボール\n",
       "173217                    四球\n",
       "173218                   ボール\n",
       "Name: 結果, dtype: object"
      ]
     },
     "execution_count": 36,
     "metadata": {},
     "output_type": "execute_result"
    }
   ],
   "source": [
    "df[173213:173219]['結果']"
   ]
  },
  {
   "cell_type": "code",
   "execution_count": 42,
   "id": "b9a0f587-a563-4872-a546-a4b58712bb6c",
   "metadata": {},
   "outputs": [
    {
     "data": {
      "text/html": [
       "<div>\n",
       "<style scoped>\n",
       "    .dataframe tbody tr th:only-of-type {\n",
       "        vertical-align: middle;\n",
       "    }\n",
       "\n",
       "    .dataframe tbody tr th {\n",
       "        vertical-align: top;\n",
       "    }\n",
       "\n",
       "    .dataframe thead th {\n",
       "        text-align: right;\n",
       "    }\n",
       "</style>\n",
       "<table border=\"1\" class=\"dataframe\">\n",
       "  <thead>\n",
       "    <tr style=\"text-align: right;\">\n",
       "      <th></th>\n",
       "      <th>投球数</th>\n",
       "      <th>球種</th>\n",
       "      <th>球速</th>\n",
       "      <th>結果</th>\n",
       "      <th>投手</th>\n",
       "      <th>打者</th>\n",
       "      <th>スコア</th>\n",
       "      <th>アウトカウント</th>\n",
       "    </tr>\n",
       "  </thead>\n",
       "  <tbody>\n",
       "    <tr>\n",
       "      <th>4505</th>\n",
       "      <td>1</td>\n",
       "      <td>シンカー</td>\n",
       "      <td>131km/h</td>\n",
       "      <td>空振り</td>\n",
       "      <td>益田 直也</td>\n",
       "      <td>田中 和基</td>\n",
       "      <td>5-4</td>\n",
       "      <td>1</td>\n",
       "    </tr>\n",
       "    <tr>\n",
       "      <th>4506</th>\n",
       "      <td>2</td>\n",
       "      <td>ストレート</td>\n",
       "      <td>146km/h</td>\n",
       "      <td>ボール</td>\n",
       "      <td>益田 直也</td>\n",
       "      <td>田中 和基</td>\n",
       "      <td>5-4</td>\n",
       "      <td>1</td>\n",
       "    </tr>\n",
       "    <tr>\n",
       "      <th>4507</th>\n",
       "      <td>3</td>\n",
       "      <td>シンカー</td>\n",
       "      <td>126km/h</td>\n",
       "      <td>ボール  [ワンバウンド]</td>\n",
       "      <td>益田 直也</td>\n",
       "      <td>田中 和基</td>\n",
       "      <td>5-4</td>\n",
       "      <td>1</td>\n",
       "    </tr>\n",
       "    <tr>\n",
       "      <th>4508</th>\n",
       "      <td>1</td>\n",
       "      <td>シンカー</td>\n",
       "      <td>131km/h</td>\n",
       "      <td>空振り</td>\n",
       "      <td>益田 直也</td>\n",
       "      <td>田中 和基</td>\n",
       "      <td>5-4</td>\n",
       "      <td>1</td>\n",
       "    </tr>\n",
       "  </tbody>\n",
       "</table>\n",
       "</div>"
      ],
      "text/plain": [
       "      投球数     球種       球速             結果     投手     打者  スコア  アウトカウント\n",
       "4505    1   シンカー  131km/h            空振り  益田 直也  田中 和基  5-4        1\n",
       "4506    2  ストレート  146km/h            ボール  益田 直也  田中 和基  5-4        1\n",
       "4507    3   シンカー  126km/h  ボール  [ワンバウンド]  益田 直也  田中 和基  5-4        1\n",
       "4508    1   シンカー  131km/h            空振り  益田 直也  田中 和基  5-4        1"
      ]
     },
     "execution_count": 42,
     "metadata": {},
     "output_type": "execute_result"
    }
   ],
   "source": [
    "#4507\n",
    "df[4505:4509]\n",
    "#array = [4505,4506,4507]"
   ]
  },
  {
   "cell_type": "code",
   "execution_count": 43,
   "id": "6e8ac9f5-a442-4f9f-b4e7-8f221f1148db",
   "metadata": {},
   "outputs": [
    {
     "data": {
      "text/html": [
       "<div>\n",
       "<style scoped>\n",
       "    .dataframe tbody tr th:only-of-type {\n",
       "        vertical-align: middle;\n",
       "    }\n",
       "\n",
       "    .dataframe tbody tr th {\n",
       "        vertical-align: top;\n",
       "    }\n",
       "\n",
       "    .dataframe thead th {\n",
       "        text-align: right;\n",
       "    }\n",
       "</style>\n",
       "<table border=\"1\" class=\"dataframe\">\n",
       "  <thead>\n",
       "    <tr style=\"text-align: right;\">\n",
       "      <th></th>\n",
       "      <th>投球数</th>\n",
       "      <th>球種</th>\n",
       "      <th>球速</th>\n",
       "      <th>結果</th>\n",
       "      <th>投手</th>\n",
       "      <th>打者</th>\n",
       "      <th>スコア</th>\n",
       "      <th>アウトカウント</th>\n",
       "    </tr>\n",
       "  </thead>\n",
       "  <tbody>\n",
       "    <tr>\n",
       "      <th>48124</th>\n",
       "      <td>1</td>\n",
       "      <td>チェンジアップ</td>\n",
       "      <td>128km/h</td>\n",
       "      <td>空振り</td>\n",
       "      <td>隅田 知一郎</td>\n",
       "      <td>紅林 弘太郎</td>\n",
       "      <td>1-1</td>\n",
       "      <td>2</td>\n",
       "    </tr>\n",
       "    <tr>\n",
       "      <th>48125</th>\n",
       "      <td>2</td>\n",
       "      <td>チェンジアップ</td>\n",
       "      <td>119km/h</td>\n",
       "      <td>ボール  [ワンバウンド]</td>\n",
       "      <td>隅田 知一郎</td>\n",
       "      <td>紅林 弘太郎</td>\n",
       "      <td>1-1</td>\n",
       "      <td>2</td>\n",
       "    </tr>\n",
       "    <tr>\n",
       "      <th>48126</th>\n",
       "      <td>3</td>\n",
       "      <td>ストレート</td>\n",
       "      <td>139km/h</td>\n",
       "      <td>ファウル  [ランエンドヒット]</td>\n",
       "      <td>隅田 知一郎</td>\n",
       "      <td>紅林 弘太郎</td>\n",
       "      <td>1-1</td>\n",
       "      <td>2</td>\n",
       "    </tr>\n",
       "    <tr>\n",
       "      <th>48127</th>\n",
       "      <td>4</td>\n",
       "      <td>カットボール</td>\n",
       "      <td>131km/h</td>\n",
       "      <td>ボール  [ワンバウンド、送球できず]</td>\n",
       "      <td>隅田 知一郎</td>\n",
       "      <td>紅林 弘太郎</td>\n",
       "      <td>1-1</td>\n",
       "      <td>2</td>\n",
       "    </tr>\n",
       "    <tr>\n",
       "      <th>48128</th>\n",
       "      <td>1</td>\n",
       "      <td>チェンジアップ</td>\n",
       "      <td>128km/h</td>\n",
       "      <td>空振り</td>\n",
       "      <td>隅田 知一郎</td>\n",
       "      <td>紅林 弘太郎</td>\n",
       "      <td>1-1</td>\n",
       "      <td>3</td>\n",
       "    </tr>\n",
       "  </tbody>\n",
       "</table>\n",
       "</div>"
      ],
      "text/plain": [
       "       投球数       球種       球速                   結果      投手      打者  スコア  \\\n",
       "48124    1  チェンジアップ  128km/h                  空振り  隅田 知一郎  紅林 弘太郎  1-1   \n",
       "48125    2  チェンジアップ  119km/h        ボール  [ワンバウンド]  隅田 知一郎  紅林 弘太郎  1-1   \n",
       "48126    3    ストレート  139km/h     ファウル  [ランエンドヒット]  隅田 知一郎  紅林 弘太郎  1-1   \n",
       "48127    4   カットボール  131km/h  ボール  [ワンバウンド、送球できず]  隅田 知一郎  紅林 弘太郎  1-1   \n",
       "48128    1  チェンジアップ  128km/h                  空振り  隅田 知一郎  紅林 弘太郎  1-1   \n",
       "\n",
       "       アウトカウント  \n",
       "48124        2  \n",
       "48125        2  \n",
       "48126        2  \n",
       "48127        2  \n",
       "48128        3  "
      ]
     },
     "execution_count": 43,
     "metadata": {},
     "output_type": "execute_result"
    }
   ],
   "source": [
    "#48127\n",
    "df[48124:48129]\n",
    "#array = [4505,4506,4507,48124,48125,48126,48127]"
   ]
  },
  {
   "cell_type": "code",
   "execution_count": 44,
   "id": "b419367e-2685-46ae-96d9-450cd9fa8064",
   "metadata": {},
   "outputs": [
    {
     "data": {
      "text/html": [
       "<div>\n",
       "<style scoped>\n",
       "    .dataframe tbody tr th:only-of-type {\n",
       "        vertical-align: middle;\n",
       "    }\n",
       "\n",
       "    .dataframe tbody tr th {\n",
       "        vertical-align: top;\n",
       "    }\n",
       "\n",
       "    .dataframe thead th {\n",
       "        text-align: right;\n",
       "    }\n",
       "</style>\n",
       "<table border=\"1\" class=\"dataframe\">\n",
       "  <thead>\n",
       "    <tr style=\"text-align: right;\">\n",
       "      <th></th>\n",
       "      <th>投球数</th>\n",
       "      <th>球種</th>\n",
       "      <th>球速</th>\n",
       "      <th>結果</th>\n",
       "      <th>投手</th>\n",
       "      <th>打者</th>\n",
       "      <th>スコア</th>\n",
       "      <th>アウトカウント</th>\n",
       "    </tr>\n",
       "  </thead>\n",
       "  <tbody>\n",
       "    <tr>\n",
       "      <th>57757</th>\n",
       "      <td>1</td>\n",
       "      <td>ツーシーム</td>\n",
       "      <td>140km/h</td>\n",
       "      <td>ファウル</td>\n",
       "      <td>石川 歩</td>\n",
       "      <td>柳田 悠岐</td>\n",
       "      <td>2-0</td>\n",
       "      <td>0</td>\n",
       "    </tr>\n",
       "    <tr>\n",
       "      <th>57758</th>\n",
       "      <td>2</td>\n",
       "      <td>ツーシーム</td>\n",
       "      <td>140km/h</td>\n",
       "      <td>ボール</td>\n",
       "      <td>石川 歩</td>\n",
       "      <td>柳田 悠岐</td>\n",
       "      <td>2-0</td>\n",
       "      <td>0</td>\n",
       "    </tr>\n",
       "    <tr>\n",
       "      <th>57759</th>\n",
       "      <td>3</td>\n",
       "      <td>シンカー</td>\n",
       "      <td>128km/h</td>\n",
       "      <td>ボール</td>\n",
       "      <td>石川 歩</td>\n",
       "      <td>柳田 悠岐</td>\n",
       "      <td>2-0</td>\n",
       "      <td>0</td>\n",
       "    </tr>\n",
       "    <tr>\n",
       "      <th>57760</th>\n",
       "      <td>1</td>\n",
       "      <td>ツーシーム</td>\n",
       "      <td>140km/h</td>\n",
       "      <td>ファウル</td>\n",
       "      <td>石川 歩</td>\n",
       "      <td>柳田 悠岐</td>\n",
       "      <td>2-0</td>\n",
       "      <td>0</td>\n",
       "    </tr>\n",
       "  </tbody>\n",
       "</table>\n",
       "</div>"
      ],
      "text/plain": [
       "       投球数     球種       球速    結果    投手     打者  スコア  アウトカウント\n",
       "57757    1  ツーシーム  140km/h  ファウル  石川 歩  柳田 悠岐  2-0        0\n",
       "57758    2  ツーシーム  140km/h   ボール  石川 歩  柳田 悠岐  2-0        0\n",
       "57759    3   シンカー  128km/h   ボール  石川 歩  柳田 悠岐  2-0        0\n",
       "57760    1  ツーシーム  140km/h  ファウル  石川 歩  柳田 悠岐  2-0        0"
      ]
     },
     "execution_count": 44,
     "metadata": {},
     "output_type": "execute_result"
    }
   ],
   "source": [
    "#57759\n",
    "df[57757:57761]\n",
    "#array = [4505,4506,4507,48124,48125,48126,48127,57757,57758,57759]"
   ]
  },
  {
   "cell_type": "code",
   "execution_count": 45,
   "id": "3a422b76-4300-4507-96c8-1dadf2ca7474",
   "metadata": {},
   "outputs": [
    {
     "data": {
      "text/html": [
       "<div>\n",
       "<style scoped>\n",
       "    .dataframe tbody tr th:only-of-type {\n",
       "        vertical-align: middle;\n",
       "    }\n",
       "\n",
       "    .dataframe tbody tr th {\n",
       "        vertical-align: top;\n",
       "    }\n",
       "\n",
       "    .dataframe thead th {\n",
       "        text-align: right;\n",
       "    }\n",
       "</style>\n",
       "<table border=\"1\" class=\"dataframe\">\n",
       "  <thead>\n",
       "    <tr style=\"text-align: right;\">\n",
       "      <th></th>\n",
       "      <th>投球数</th>\n",
       "      <th>球種</th>\n",
       "      <th>球速</th>\n",
       "      <th>結果</th>\n",
       "      <th>投手</th>\n",
       "      <th>打者</th>\n",
       "      <th>スコア</th>\n",
       "      <th>アウトカウント</th>\n",
       "    </tr>\n",
       "  </thead>\n",
       "  <tbody>\n",
       "    <tr>\n",
       "      <th>90371</th>\n",
       "      <td>1</td>\n",
       "      <td>カーブ</td>\n",
       "      <td>109km/h</td>\n",
       "      <td>ボール</td>\n",
       "      <td>原 樹理</td>\n",
       "      <td>マーティン</td>\n",
       "      <td>2-2</td>\n",
       "      <td>2</td>\n",
       "    </tr>\n",
       "    <tr>\n",
       "      <th>90372</th>\n",
       "      <td>2</td>\n",
       "      <td>チェンジアップ</td>\n",
       "      <td>131km/h</td>\n",
       "      <td>空振り</td>\n",
       "      <td>原 樹理</td>\n",
       "      <td>マーティン</td>\n",
       "      <td>2-2</td>\n",
       "      <td>2</td>\n",
       "    </tr>\n",
       "    <tr>\n",
       "      <th>90373</th>\n",
       "      <td>3</td>\n",
       "      <td>ストレート</td>\n",
       "      <td>143km/h</td>\n",
       "      <td>ファウル</td>\n",
       "      <td>原 樹理</td>\n",
       "      <td>マーティン</td>\n",
       "      <td>2-2</td>\n",
       "      <td>2</td>\n",
       "    </tr>\n",
       "    <tr>\n",
       "      <th>90374</th>\n",
       "      <td>4</td>\n",
       "      <td>カーブ</td>\n",
       "      <td>105km/h</td>\n",
       "      <td>ボール  [ワンバウンド、ランエンドヒット]</td>\n",
       "      <td>原 樹理</td>\n",
       "      <td>マーティン</td>\n",
       "      <td>2-2</td>\n",
       "      <td>2</td>\n",
       "    </tr>\n",
       "    <tr>\n",
       "      <th>90375</th>\n",
       "      <td>1</td>\n",
       "      <td>カーブ</td>\n",
       "      <td>109km/h</td>\n",
       "      <td>ボール</td>\n",
       "      <td>原 樹理</td>\n",
       "      <td>マーティン</td>\n",
       "      <td>2-2</td>\n",
       "      <td>3</td>\n",
       "    </tr>\n",
       "  </tbody>\n",
       "</table>\n",
       "</div>"
      ],
      "text/plain": [
       "       投球数       球種       球速                      結果    投手     打者  スコア  \\\n",
       "90371    1      カーブ  109km/h                     ボール  原 樹理  マーティン  2-2   \n",
       "90372    2  チェンジアップ  131km/h                     空振り  原 樹理  マーティン  2-2   \n",
       "90373    3    ストレート  143km/h                    ファウル  原 樹理  マーティン  2-2   \n",
       "90374    4      カーブ  105km/h  ボール  [ワンバウンド、ランエンドヒット]  原 樹理  マーティン  2-2   \n",
       "90375    1      カーブ  109km/h                     ボール  原 樹理  マーティン  2-2   \n",
       "\n",
       "       アウトカウント  \n",
       "90371        2  \n",
       "90372        2  \n",
       "90373        2  \n",
       "90374        2  \n",
       "90375        3  "
      ]
     },
     "execution_count": 45,
     "metadata": {},
     "output_type": "execute_result"
    }
   ],
   "source": [
    "#90374\n",
    "df[90371:90376]\n",
    "#array = [4505,4506,4507,48124,48125,48126,48127,57757,57758,57759,90371,90372,90373,\n",
    "#90374,]"
   ]
  },
  {
   "cell_type": "code",
   "execution_count": 46,
   "id": "4adbc15b-8443-4d28-bac5-3778347bd832",
   "metadata": {},
   "outputs": [
    {
     "data": {
      "text/html": [
       "<div>\n",
       "<style scoped>\n",
       "    .dataframe tbody tr th:only-of-type {\n",
       "        vertical-align: middle;\n",
       "    }\n",
       "\n",
       "    .dataframe tbody tr th {\n",
       "        vertical-align: top;\n",
       "    }\n",
       "\n",
       "    .dataframe thead th {\n",
       "        text-align: right;\n",
       "    }\n",
       "</style>\n",
       "<table border=\"1\" class=\"dataframe\">\n",
       "  <thead>\n",
       "    <tr style=\"text-align: right;\">\n",
       "      <th></th>\n",
       "      <th>投球数</th>\n",
       "      <th>球種</th>\n",
       "      <th>球速</th>\n",
       "      <th>結果</th>\n",
       "      <th>投手</th>\n",
       "      <th>打者</th>\n",
       "      <th>スコア</th>\n",
       "      <th>アウトカウント</th>\n",
       "    </tr>\n",
       "  </thead>\n",
       "  <tbody>\n",
       "    <tr>\n",
       "      <th>103655</th>\n",
       "      <td>1</td>\n",
       "      <td>ナックルカーブ</td>\n",
       "      <td>127km/h</td>\n",
       "      <td>ボール</td>\n",
       "      <td>レイ</td>\n",
       "      <td>中野 拓夢</td>\n",
       "      <td>0-2</td>\n",
       "      <td>0</td>\n",
       "    </tr>\n",
       "    <tr>\n",
       "      <th>103656</th>\n",
       "      <td>2</td>\n",
       "      <td>ストレート</td>\n",
       "      <td>148km/h</td>\n",
       "      <td>ボール  [セーフティバント、バント構え]</td>\n",
       "      <td>レイ</td>\n",
       "      <td>中野 拓夢</td>\n",
       "      <td>0-2</td>\n",
       "      <td>0</td>\n",
       "    </tr>\n",
       "    <tr>\n",
       "      <th>103657</th>\n",
       "      <td>3</td>\n",
       "      <td>ツーシーム</td>\n",
       "      <td>148km/h</td>\n",
       "      <td>見逃し</td>\n",
       "      <td>レイ</td>\n",
       "      <td>中野 拓夢</td>\n",
       "      <td>0-2</td>\n",
       "      <td>0</td>\n",
       "    </tr>\n",
       "    <tr>\n",
       "      <th>103658</th>\n",
       "      <td>1</td>\n",
       "      <td>ナックルカーブ</td>\n",
       "      <td>127km/h</td>\n",
       "      <td>ボール</td>\n",
       "      <td>レイ</td>\n",
       "      <td>中野 拓夢</td>\n",
       "      <td>0-2</td>\n",
       "      <td>1</td>\n",
       "    </tr>\n",
       "  </tbody>\n",
       "</table>\n",
       "</div>"
      ],
      "text/plain": [
       "        投球数       球種       球速                     結果  投手     打者  スコア  アウトカウント\n",
       "103655    1  ナックルカーブ  127km/h                    ボール  レイ  中野 拓夢  0-2        0\n",
       "103656    2    ストレート  148km/h  ボール  [セーフティバント、バント構え]  レイ  中野 拓夢  0-2        0\n",
       "103657    3    ツーシーム  148km/h                    見逃し  レイ  中野 拓夢  0-2        0\n",
       "103658    1  ナックルカーブ  127km/h                    ボール  レイ  中野 拓夢  0-2        1"
      ]
     },
     "execution_count": 46,
     "metadata": {},
     "output_type": "execute_result"
    }
   ],
   "source": [
    "#103657\n",
    "df[103655:103659]\n",
    "#array = [4505,4506,4507,48124,48125,48126,48127,57757,57758,57759,90371,90372,90373,\n",
    "#90374,103655,103656,103657]"
   ]
  },
  {
   "cell_type": "code",
   "execution_count": 47,
   "id": "fed838dd-2115-4c88-a295-0692efdfc0e4",
   "metadata": {},
   "outputs": [
    {
     "data": {
      "text/html": [
       "<div>\n",
       "<style scoped>\n",
       "    .dataframe tbody tr th:only-of-type {\n",
       "        vertical-align: middle;\n",
       "    }\n",
       "\n",
       "    .dataframe tbody tr th {\n",
       "        vertical-align: top;\n",
       "    }\n",
       "\n",
       "    .dataframe thead th {\n",
       "        text-align: right;\n",
       "    }\n",
       "</style>\n",
       "<table border=\"1\" class=\"dataframe\">\n",
       "  <thead>\n",
       "    <tr style=\"text-align: right;\">\n",
       "      <th></th>\n",
       "      <th>投球数</th>\n",
       "      <th>球種</th>\n",
       "      <th>球速</th>\n",
       "      <th>結果</th>\n",
       "      <th>投手</th>\n",
       "      <th>打者</th>\n",
       "      <th>スコア</th>\n",
       "      <th>アウトカウント</th>\n",
       "    </tr>\n",
       "  </thead>\n",
       "  <tbody>\n",
       "    <tr>\n",
       "      <th>149130</th>\n",
       "      <td>1</td>\n",
       "      <td>ストレート</td>\n",
       "      <td>-</td>\n",
       "      <td>見逃し</td>\n",
       "      <td>柳 裕也</td>\n",
       "      <td>ロハス・ジュニア</td>\n",
       "      <td>1-3</td>\n",
       "      <td>1</td>\n",
       "    </tr>\n",
       "    <tr>\n",
       "      <th>149131</th>\n",
       "      <td>2</td>\n",
       "      <td>ストレート</td>\n",
       "      <td>143km/h</td>\n",
       "      <td>ボール  [ダブルスチール、ディレイドスチール]</td>\n",
       "      <td>柳 裕也</td>\n",
       "      <td>ロハス・ジュニア</td>\n",
       "      <td>1-3</td>\n",
       "      <td>1</td>\n",
       "    </tr>\n",
       "    <tr>\n",
       "      <th>149132</th>\n",
       "      <td>1</td>\n",
       "      <td>ストレート</td>\n",
       "      <td>-</td>\n",
       "      <td>見逃し</td>\n",
       "      <td>柳 裕也</td>\n",
       "      <td>ロハス・ジュニア</td>\n",
       "      <td>1-3</td>\n",
       "      <td>2</td>\n",
       "    </tr>\n",
       "  </tbody>\n",
       "</table>\n",
       "</div>"
      ],
      "text/plain": [
       "        投球数     球種       球速                        結果    投手        打者  スコア  \\\n",
       "149130    1  ストレート        -                       見逃し  柳 裕也  ロハス・ジュニア  1-3   \n",
       "149131    2  ストレート  143km/h  ボール  [ダブルスチール、ディレイドスチール]  柳 裕也  ロハス・ジュニア  1-3   \n",
       "149132    1  ストレート        -                       見逃し  柳 裕也  ロハス・ジュニア  1-3   \n",
       "\n",
       "        アウトカウント  \n",
       "149130        1  \n",
       "149131        1  \n",
       "149132        2  "
      ]
     },
     "execution_count": 47,
     "metadata": {},
     "output_type": "execute_result"
    }
   ],
   "source": [
    "#149131\n",
    "df[149130:149133]\n",
    "#array = [4505,4506,4507,48124,48125,48126,48127,57757,57758,57759,90371,90372,90373,\n",
    "#90374,103655,103656,103657,149130,149131,]"
   ]
  },
  {
   "cell_type": "code",
   "execution_count": 48,
   "id": "bd3e4afc-fee0-414e-bbac-f1cd261c6acc",
   "metadata": {},
   "outputs": [
    {
     "data": {
      "text/html": [
       "<div>\n",
       "<style scoped>\n",
       "    .dataframe tbody tr th:only-of-type {\n",
       "        vertical-align: middle;\n",
       "    }\n",
       "\n",
       "    .dataframe tbody tr th {\n",
       "        vertical-align: top;\n",
       "    }\n",
       "\n",
       "    .dataframe thead th {\n",
       "        text-align: right;\n",
       "    }\n",
       "</style>\n",
       "<table border=\"1\" class=\"dataframe\">\n",
       "  <thead>\n",
       "    <tr style=\"text-align: right;\">\n",
       "      <th></th>\n",
       "      <th>投球数</th>\n",
       "      <th>球種</th>\n",
       "      <th>球速</th>\n",
       "      <th>結果</th>\n",
       "      <th>投手</th>\n",
       "      <th>打者</th>\n",
       "      <th>スコア</th>\n",
       "      <th>アウトカウント</th>\n",
       "    </tr>\n",
       "  </thead>\n",
       "  <tbody>\n",
       "    <tr>\n",
       "      <th>163854</th>\n",
       "      <td>1</td>\n",
       "      <td>スプリット</td>\n",
       "      <td>136km/h</td>\n",
       "      <td>見逃し</td>\n",
       "      <td>R.マルティネス</td>\n",
       "      <td>坂倉 将吾</td>\n",
       "      <td>6-5</td>\n",
       "      <td>2</td>\n",
       "    </tr>\n",
       "    <tr>\n",
       "      <th>163855</th>\n",
       "      <td>2</td>\n",
       "      <td>スプリット</td>\n",
       "      <td>138km/h</td>\n",
       "      <td>見逃し</td>\n",
       "      <td>R.マルティネス</td>\n",
       "      <td>坂倉 将吾</td>\n",
       "      <td>6-5</td>\n",
       "      <td>2</td>\n",
       "    </tr>\n",
       "    <tr>\n",
       "      <th>163856</th>\n",
       "      <td>3</td>\n",
       "      <td>ストレート</td>\n",
       "      <td>154km/h</td>\n",
       "      <td>ボール</td>\n",
       "      <td>R.マルティネス</td>\n",
       "      <td>坂倉 将吾</td>\n",
       "      <td>6-5</td>\n",
       "      <td>2</td>\n",
       "    </tr>\n",
       "    <tr>\n",
       "      <th>163857</th>\n",
       "      <td>4</td>\n",
       "      <td>スプリット</td>\n",
       "      <td>147km/h</td>\n",
       "      <td>ファウル</td>\n",
       "      <td>R.マルティネス</td>\n",
       "      <td>坂倉 将吾</td>\n",
       "      <td>6-5</td>\n",
       "      <td>2</td>\n",
       "    </tr>\n",
       "    <tr>\n",
       "      <th>163858</th>\n",
       "      <td>5</td>\n",
       "      <td>ストレート</td>\n",
       "      <td>153km/h</td>\n",
       "      <td>ボール  [高めのつり球を要求]</td>\n",
       "      <td>R.マルティネス</td>\n",
       "      <td>坂倉 将吾</td>\n",
       "      <td>6-5</td>\n",
       "      <td>2</td>\n",
       "    </tr>\n",
       "    <tr>\n",
       "      <th>163859</th>\n",
       "      <td>1</td>\n",
       "      <td>スプリット</td>\n",
       "      <td>136km/h</td>\n",
       "      <td>見逃し</td>\n",
       "      <td>R.マルティネス</td>\n",
       "      <td>坂倉 将吾</td>\n",
       "      <td>6-5</td>\n",
       "      <td>3</td>\n",
       "    </tr>\n",
       "  </tbody>\n",
       "</table>\n",
       "</div>"
      ],
      "text/plain": [
       "        投球数     球種       球速                結果        投手     打者  スコア  アウトカウント\n",
       "163854    1  スプリット  136km/h               見逃し  R.マルティネス  坂倉 将吾  6-5        2\n",
       "163855    2  スプリット  138km/h               見逃し  R.マルティネス  坂倉 将吾  6-5        2\n",
       "163856    3  ストレート  154km/h               ボール  R.マルティネス  坂倉 将吾  6-5        2\n",
       "163857    4  スプリット  147km/h              ファウル  R.マルティネス  坂倉 将吾  6-5        2\n",
       "163858    5  ストレート  153km/h  ボール  [高めのつり球を要求]  R.マルティネス  坂倉 将吾  6-5        2\n",
       "163859    1  スプリット  136km/h               見逃し  R.マルティネス  坂倉 将吾  6-5        3"
      ]
     },
     "execution_count": 48,
     "metadata": {},
     "output_type": "execute_result"
    }
   ],
   "source": [
    "#163858\n",
    "df[163854:163860]\n",
    "#array = [4505,4506,4507,48124,48125,48126,48127,57757,57758,57759,90371,90372,90373,\n",
    "#90374,103655,103656,103657,149130,149131,163854,163855,163856,163857,163858,\n",
    "#]"
   ]
  },
  {
   "cell_type": "code",
   "execution_count": 49,
   "id": "2884c2b1-3438-4606-aa4f-fd80a6c79021",
   "metadata": {},
   "outputs": [
    {
     "data": {
      "text/html": [
       "<div>\n",
       "<style scoped>\n",
       "    .dataframe tbody tr th:only-of-type {\n",
       "        vertical-align: middle;\n",
       "    }\n",
       "\n",
       "    .dataframe tbody tr th {\n",
       "        vertical-align: top;\n",
       "    }\n",
       "\n",
       "    .dataframe thead th {\n",
       "        text-align: right;\n",
       "    }\n",
       "</style>\n",
       "<table border=\"1\" class=\"dataframe\">\n",
       "  <thead>\n",
       "    <tr style=\"text-align: right;\">\n",
       "      <th></th>\n",
       "      <th>投球数</th>\n",
       "      <th>球種</th>\n",
       "      <th>球速</th>\n",
       "      <th>結果</th>\n",
       "      <th>投手</th>\n",
       "      <th>打者</th>\n",
       "      <th>スコア</th>\n",
       "      <th>アウトカウント</th>\n",
       "    </tr>\n",
       "  </thead>\n",
       "  <tbody>\n",
       "    <tr>\n",
       "      <th>180247</th>\n",
       "      <td>1</td>\n",
       "      <td>ストレート</td>\n",
       "      <td>145km/h</td>\n",
       "      <td>ボール</td>\n",
       "      <td>小川 泰弘</td>\n",
       "      <td>牧 秀悟</td>\n",
       "      <td>2-1</td>\n",
       "      <td>2</td>\n",
       "    </tr>\n",
       "    <tr>\n",
       "      <th>180248</th>\n",
       "      <td>2</td>\n",
       "      <td>ストレート</td>\n",
       "      <td>142km/h</td>\n",
       "      <td>空振り</td>\n",
       "      <td>小川 泰弘</td>\n",
       "      <td>牧 秀悟</td>\n",
       "      <td>2-1</td>\n",
       "      <td>2</td>\n",
       "    </tr>\n",
       "    <tr>\n",
       "      <th>180249</th>\n",
       "      <td>3</td>\n",
       "      <td>スライダー</td>\n",
       "      <td>131km/h</td>\n",
       "      <td>ボール  [ワンバウンド]</td>\n",
       "      <td>小川 泰弘</td>\n",
       "      <td>牧 秀悟</td>\n",
       "      <td>2-1</td>\n",
       "      <td>2</td>\n",
       "    </tr>\n",
       "    <tr>\n",
       "      <th>180250</th>\n",
       "      <td>1</td>\n",
       "      <td>ストレート</td>\n",
       "      <td>145km/h</td>\n",
       "      <td>ボール</td>\n",
       "      <td>小川 泰弘</td>\n",
       "      <td>牧 秀悟</td>\n",
       "      <td>2-1</td>\n",
       "      <td>3</td>\n",
       "    </tr>\n",
       "  </tbody>\n",
       "</table>\n",
       "</div>"
      ],
      "text/plain": [
       "        投球数     球種       球速             結果     投手    打者  スコア  アウトカウント\n",
       "180247    1  ストレート  145km/h            ボール  小川 泰弘  牧 秀悟  2-1        2\n",
       "180248    2  ストレート  142km/h            空振り  小川 泰弘  牧 秀悟  2-1        2\n",
       "180249    3  スライダー  131km/h  ボール  [ワンバウンド]  小川 泰弘  牧 秀悟  2-1        2\n",
       "180250    1  ストレート  145km/h            ボール  小川 泰弘  牧 秀悟  2-1        3"
      ]
     },
     "execution_count": 49,
     "metadata": {},
     "output_type": "execute_result"
    }
   ],
   "source": [
    "#180249\n",
    "df[180247:180251]\n",
    "#array = [4505,4506,4507,48124,48125,48126,48127,57757,57758,57759,90371,90372,90373,\n",
    "#90374,103655,103656,103657,149130,149131,163854,163855,163856,163857,163858,\n",
    "#180247,180248,180249,]"
   ]
  },
  {
   "cell_type": "code",
   "execution_count": 51,
   "id": "948aa27c-b546-447d-8cca-99c0eb719f89",
   "metadata": {},
   "outputs": [
    {
     "data": {
      "text/html": [
       "<div>\n",
       "<style scoped>\n",
       "    .dataframe tbody tr th:only-of-type {\n",
       "        vertical-align: middle;\n",
       "    }\n",
       "\n",
       "    .dataframe tbody tr th {\n",
       "        vertical-align: top;\n",
       "    }\n",
       "\n",
       "    .dataframe thead th {\n",
       "        text-align: right;\n",
       "    }\n",
       "</style>\n",
       "<table border=\"1\" class=\"dataframe\">\n",
       "  <thead>\n",
       "    <tr style=\"text-align: right;\">\n",
       "      <th></th>\n",
       "      <th>投球数</th>\n",
       "      <th>球種</th>\n",
       "      <th>球速</th>\n",
       "      <th>結果</th>\n",
       "      <th>投手</th>\n",
       "      <th>打者</th>\n",
       "      <th>スコア</th>\n",
       "      <th>アウトカウント</th>\n",
       "    </tr>\n",
       "  </thead>\n",
       "  <tbody>\n",
       "    <tr>\n",
       "      <th>187640</th>\n",
       "      <td>1</td>\n",
       "      <td>ストレート</td>\n",
       "      <td>-</td>\n",
       "      <td>ボール  [ピッチアウト]</td>\n",
       "      <td>サイスニード</td>\n",
       "      <td>佐藤 輝明</td>\n",
       "      <td>0-0</td>\n",
       "      <td>2</td>\n",
       "    </tr>\n",
       "    <tr>\n",
       "      <th>187641</th>\n",
       "      <td>2</td>\n",
       "      <td>チェンジアップ</td>\n",
       "      <td>128km/h</td>\n",
       "      <td>ファウル</td>\n",
       "      <td>サイスニード</td>\n",
       "      <td>佐藤 輝明</td>\n",
       "      <td>0-0</td>\n",
       "      <td>2</td>\n",
       "    </tr>\n",
       "    <tr>\n",
       "      <th>187642</th>\n",
       "      <td>3</td>\n",
       "      <td>ストレート</td>\n",
       "      <td>149km/h</td>\n",
       "      <td>ファウル</td>\n",
       "      <td>サイスニード</td>\n",
       "      <td>佐藤 輝明</td>\n",
       "      <td>0-0</td>\n",
       "      <td>2</td>\n",
       "    </tr>\n",
       "    <tr>\n",
       "      <th>187643</th>\n",
       "      <td>4</td>\n",
       "      <td>ストレート</td>\n",
       "      <td>148km/h</td>\n",
       "      <td>ボール  [高めのつり球を要求]</td>\n",
       "      <td>サイスニード</td>\n",
       "      <td>佐藤 輝明</td>\n",
       "      <td>0-0</td>\n",
       "      <td>2</td>\n",
       "    </tr>\n",
       "    <tr>\n",
       "      <th>187644</th>\n",
       "      <td>5</td>\n",
       "      <td>ストレート</td>\n",
       "      <td>-</td>\n",
       "      <td>ボール  [ランエンドヒット]</td>\n",
       "      <td>サイスニード</td>\n",
       "      <td>佐藤 輝明</td>\n",
       "      <td>0-0</td>\n",
       "      <td>2</td>\n",
       "    </tr>\n",
       "    <tr>\n",
       "      <th>187645</th>\n",
       "      <td>1</td>\n",
       "      <td>ストレート</td>\n",
       "      <td>-</td>\n",
       "      <td>ボール  [ピッチアウト]</td>\n",
       "      <td>サイスニード</td>\n",
       "      <td>佐藤 輝明</td>\n",
       "      <td>0-0</td>\n",
       "      <td>3</td>\n",
       "    </tr>\n",
       "  </tbody>\n",
       "</table>\n",
       "</div>"
      ],
      "text/plain": [
       "        投球数       球種       球速                結果      投手     打者  スコア  アウトカウント\n",
       "187640    1    ストレート        -     ボール  [ピッチアウト]  サイスニード  佐藤 輝明  0-0        2\n",
       "187641    2  チェンジアップ  128km/h              ファウル  サイスニード  佐藤 輝明  0-0        2\n",
       "187642    3    ストレート  149km/h              ファウル  サイスニード  佐藤 輝明  0-0        2\n",
       "187643    4    ストレート  148km/h  ボール  [高めのつり球を要求]  サイスニード  佐藤 輝明  0-0        2\n",
       "187644    5    ストレート        -   ボール  [ランエンドヒット]  サイスニード  佐藤 輝明  0-0        2\n",
       "187645    1    ストレート        -     ボール  [ピッチアウト]  サイスニード  佐藤 輝明  0-0        3"
      ]
     },
     "execution_count": 51,
     "metadata": {},
     "output_type": "execute_result"
    }
   ],
   "source": [
    "#187644\n",
    "df[187640:187646]\n",
    "#array = [4505,4506,4507,48124,48125,48126,48127,57757,57758,57759,90371,90372,90373,\n",
    "#90374,103655,103656,103657,149130,149131,163854,163855,163856,163857,163858,\n",
    "#180247,180248,180249,187640,187641,187642,187643,187644]"
   ]
  },
  {
   "cell_type": "code",
   "execution_count": 52,
   "id": "40217941-07e7-4b4d-91cd-097700849b7f",
   "metadata": {},
   "outputs": [
    {
     "data": {
      "text/html": [
       "<div>\n",
       "<style scoped>\n",
       "    .dataframe tbody tr th:only-of-type {\n",
       "        vertical-align: middle;\n",
       "    }\n",
       "\n",
       "    .dataframe tbody tr th {\n",
       "        vertical-align: top;\n",
       "    }\n",
       "\n",
       "    .dataframe thead th {\n",
       "        text-align: right;\n",
       "    }\n",
       "</style>\n",
       "<table border=\"1\" class=\"dataframe\">\n",
       "  <thead>\n",
       "    <tr style=\"text-align: right;\">\n",
       "      <th></th>\n",
       "      <th>投球数</th>\n",
       "      <th>球種</th>\n",
       "      <th>球速</th>\n",
       "      <th>結果</th>\n",
       "      <th>投手</th>\n",
       "      <th>打者</th>\n",
       "      <th>スコア</th>\n",
       "      <th>アウトカウント</th>\n",
       "    </tr>\n",
       "  </thead>\n",
       "  <tbody>\n",
       "    <tr>\n",
       "      <th>189837</th>\n",
       "      <td>1</td>\n",
       "      <td>カットボール</td>\n",
       "      <td>128km/h</td>\n",
       "      <td>空振り</td>\n",
       "      <td>大野 雄大</td>\n",
       "      <td>内山 壮真</td>\n",
       "      <td>3-1</td>\n",
       "      <td>2</td>\n",
       "    </tr>\n",
       "    <tr>\n",
       "      <th>189838</th>\n",
       "      <td>2</td>\n",
       "      <td>ストレート</td>\n",
       "      <td>142km/h</td>\n",
       "      <td>ボール</td>\n",
       "      <td>大野 雄大</td>\n",
       "      <td>内山 壮真</td>\n",
       "      <td>3-1</td>\n",
       "      <td>2</td>\n",
       "    </tr>\n",
       "    <tr>\n",
       "      <th>189839</th>\n",
       "      <td>1</td>\n",
       "      <td>カットボール</td>\n",
       "      <td>128km/h</td>\n",
       "      <td>空振り</td>\n",
       "      <td>大野 雄大</td>\n",
       "      <td>内山 壮真</td>\n",
       "      <td>3-1</td>\n",
       "      <td>3</td>\n",
       "    </tr>\n",
       "  </tbody>\n",
       "</table>\n",
       "</div>"
      ],
      "text/plain": [
       "        投球数      球種       球速   結果     投手     打者  スコア  アウトカウント\n",
       "189837    1  カットボール  128km/h  空振り  大野 雄大  内山 壮真  3-1        2\n",
       "189838    2   ストレート  142km/h  ボール  大野 雄大  内山 壮真  3-1        2\n",
       "189839    1  カットボール  128km/h  空振り  大野 雄大  内山 壮真  3-1        3"
      ]
     },
     "execution_count": 52,
     "metadata": {},
     "output_type": "execute_result"
    }
   ],
   "source": [
    "#189838\n",
    "df[189837:189840]\n",
    "#array = [4505,4506,4507,48124,48125,48126,48127,57757,57758,57759,90371,90372,90373,\n",
    "#90374,103655,103656,103657,149130,149131,163854,163855,163856,163857,163858,\n",
    "#180247,180248,180249,187640,187641,187642,187643,187644,189837,189838]"
   ]
  },
  {
   "cell_type": "code",
   "execution_count": 53,
   "id": "29811f1d-7e8d-4f90-a3d4-dd302eafb94c",
   "metadata": {},
   "outputs": [
    {
     "name": "stdout",
     "output_type": "stream",
     "text": [
      "34\n"
     ]
    }
   ],
   "source": [
    "array = [4505,4506,4507,48124,48125,48126,48127,57757,57758,57759,90371,90372,90373,\n",
    "90374,103655,103656,103657,149130,149131,163854,163855,163856,163857,163858,\n",
    "180247,180248,180249,187640,187641,187642,187643,187644,189837,189838]\n",
    "print(len(array))"
   ]
  },
  {
   "cell_type": "code",
   "execution_count": 54,
   "id": "cce3f626-9efb-47e0-95a9-25759cf15b6a",
   "metadata": {},
   "outputs": [
    {
     "name": "stdout",
     "output_type": "stream",
     "text": [
      "243675\n",
      "243675\n"
     ]
    },
    {
     "name": "stderr",
     "output_type": "stream",
     "text": [
      "C:\\Users\\yutay\\anaconda3\\lib\\site-packages\\pandas\\core\\indexes\\base.py:4616: FutureWarning: Using a non-tuple sequence for multidimensional indexing is deprecated; use `arr[tuple(seq)]` instead of `arr[seq]`. In the future this will be interpreted as an array index, `arr[np.array(seq)]`, which will result either in an error or a different result.\n",
      "  result = getitem(key)\n"
     ]
    }
   ],
   "source": [
    "#該当箇所を削除&データフレームの該当箇所が削除されたかを確認\n",
    "df = df.drop(df.index[[array]])\n",
    "length = df.shape[0]\n",
    "print(length)\n",
    "print(243709-34)\n",
    "\n",
    "#indexを振り直す\n",
    "df = df.reset_index(drop=True)"
   ]
  },
  {
   "cell_type": "code",
   "execution_count": 55,
   "id": "09da4baf-67d9-4029-9a78-033bb8501da9",
   "metadata": {},
   "outputs": [],
   "source": [
    "df.to_csv('../data_new/allgame_result_corrected2.csv',index=False)"
   ]
  },
  {
   "cell_type": "code",
   "execution_count": null,
   "id": "bd5b0064-7896-4384-af87-c18f8ff2671c",
   "metadata": {},
   "outputs": [],
   "source": []
  },
  {
   "cell_type": "code",
   "execution_count": null,
   "id": "c9448f21-fd80-45d9-a1b9-3e8f0e222501",
   "metadata": {},
   "outputs": [],
   "source": []
  }
 ],
 "metadata": {
  "kernelspec": {
   "display_name": "Python 3 (ipykernel)",
   "language": "python",
   "name": "python3"
  },
  "language_info": {
   "codemirror_mode": {
    "name": "ipython",
    "version": 3
   },
   "file_extension": ".py",
   "mimetype": "text/x-python",
   "name": "python",
   "nbconvert_exporter": "python",
   "pygments_lexer": "ipython3",
   "version": "3.8.11"
  }
 },
 "nbformat": 4,
 "nbformat_minor": 5
}
