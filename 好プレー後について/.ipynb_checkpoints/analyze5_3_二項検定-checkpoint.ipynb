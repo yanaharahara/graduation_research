{
 "cells": [
  {
   "cell_type": "code",
   "execution_count": 2,
   "id": "57ac13bc-c035-42da-b77f-3cc9b13725b6",
   "metadata": {},
   "outputs": [],
   "source": [
    "import pandas as pd\n",
    "from scipy import stats"
   ]
  },
  {
   "cell_type": "code",
   "execution_count": 3,
   "id": "e786d150-035c-496f-8bb5-26678ef93911",
   "metadata": {},
   "outputs": [
    {
     "name": "stdout",
     "output_type": "stream",
     "text": [
      "1.0\n"
     ]
    }
   ],
   "source": [
    "p = stats.binom_test(361,1172,0.3084089823220258)\n",
    "print(p)"
   ]
  },
  {
   "cell_type": "code",
   "execution_count": 4,
   "id": "efb88e9e-f0e6-43a3-8a2b-92119f65af8c",
   "metadata": {},
   "outputs": [
    {
     "name": "stdout",
     "output_type": "stream",
     "text": [
      "帰無仮説棄却できない、有意差ありとはいえない\n"
     ]
    }
   ],
   "source": [
    "if p < 0.05:\n",
    "    print('帰無仮説棄却、有意差あり')\n",
    "else:\n",
    "    print('帰無仮説棄却できない、有意差ありとはいえない') "
   ]
  },
  {
   "cell_type": "markdown",
   "id": "2e9909a8-c021-4935-9d43-d9c43232a90c",
   "metadata": {},
   "source": [
    "<b>結論：帰無仮説棄却できない、有意差があるといえないということは守備の好プレーが流れを変えるプレーだとは言えない"
   ]
  },
  {
   "cell_type": "code",
   "execution_count": null,
   "id": "462b4a6d-7154-4aa2-9e36-99f1045955e8",
   "metadata": {},
   "outputs": [],
   "source": []
  },
  {
   "cell_type": "code",
   "execution_count": null,
   "id": "f80adb33-4159-41ee-82c1-5a755ea00759",
   "metadata": {},
   "outputs": [],
   "source": []
  },
  {
   "cell_type": "code",
   "execution_count": null,
   "id": "bae7f27a-4a7c-45b4-af7e-e1379c95bd66",
   "metadata": {},
   "outputs": [],
   "source": []
  },
  {
   "cell_type": "code",
   "execution_count": null,
   "id": "e655a358-5303-4106-b163-af99938f719e",
   "metadata": {},
   "outputs": [],
   "source": []
  }
 ],
 "metadata": {
  "kernelspec": {
   "display_name": "Python 3 (ipykernel)",
   "language": "python",
   "name": "python3"
  },
  "language_info": {
   "codemirror_mode": {
    "name": "ipython",
    "version": 3
   },
   "file_extension": ".py",
   "mimetype": "text/x-python",
   "name": "python",
   "nbconvert_exporter": "python",
   "pygments_lexer": "ipython3",
   "version": "3.8.11"
  },
  "vscode": {
   "interpreter": {
    "hash": "9b3d359b64615d31bd83d37813109b42bf93fe413de9e027593f9283da4fd420"
   }
  }
 },
 "nbformat": 4,
 "nbformat_minor": 5
}
