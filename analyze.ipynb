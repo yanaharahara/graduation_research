{
 "cells": [
  {
   "cell_type": "code",
   "execution_count": 1,
   "id": "e199b22d-a764-48a6-8b15-027bf529672c",
   "metadata": {},
   "outputs": [
    {
     "name": "stdout",
     "output_type": "stream",
     "text": [
      "<class 'str'>\n"
     ]
    }
   ],
   "source": [
    "import pandas as pd"
   ]
  },
  {
   "cell_type": "code",
   "execution_count": 28,
   "id": "ec2b7304-100b-4f6e-b84f-43c2c72ab2de",
   "metadata": {},
   "outputs": [],
   "source": [
    "#データ読み込み\n",
    "#df = pd.read_csv('data/allgame_result.csv')\n",
    "df = pd.read_csv('data/1_game_results_1_100.csv')"
   ]
  },
  {
   "cell_type": "code",
   "execution_count": 29,
   "id": "62db8999-1b35-4620-aed2-0e2ebdd0caf7",
   "metadata": {},
   "outputs": [
    {
     "data": {
      "text/html": [
       "<div>\n",
       "<style scoped>\n",
       "    .dataframe tbody tr th:only-of-type {\n",
       "        vertical-align: middle;\n",
       "    }\n",
       "\n",
       "    .dataframe tbody tr th {\n",
       "        vertical-align: top;\n",
       "    }\n",
       "\n",
       "    .dataframe thead th {\n",
       "        text-align: right;\n",
       "    }\n",
       "</style>\n",
       "<table border=\"1\" class=\"dataframe\">\n",
       "  <thead>\n",
       "    <tr style=\"text-align: right;\">\n",
       "      <th></th>\n",
       "      <th>投球数</th>\n",
       "      <th>球種</th>\n",
       "      <th>球速</th>\n",
       "      <th>結果</th>\n",
       "      <th>投手</th>\n",
       "      <th>打者</th>\n",
       "      <th>スコア</th>\n",
       "    </tr>\n",
       "  </thead>\n",
       "  <tbody>\n",
       "    <tr>\n",
       "      <th>0</th>\n",
       "      <td>1</td>\n",
       "      <td>ストレート</td>\n",
       "      <td>147km/h</td>\n",
       "      <td>中飛</td>\n",
       "      <td>菅野 智之</td>\n",
       "      <td>大島 洋平</td>\n",
       "      <td>0-0</td>\n",
       "    </tr>\n",
       "    <tr>\n",
       "      <th>1</th>\n",
       "      <td>1</td>\n",
       "      <td>ストレート</td>\n",
       "      <td>144km/h</td>\n",
       "      <td>ボール</td>\n",
       "      <td>菅野 智之</td>\n",
       "      <td>岡林 勇希</td>\n",
       "      <td>0-0</td>\n",
       "    </tr>\n",
       "    <tr>\n",
       "      <th>2</th>\n",
       "      <td>2</td>\n",
       "      <td>カットボール</td>\n",
       "      <td>139km/h</td>\n",
       "      <td>見逃し</td>\n",
       "      <td>菅野 智之</td>\n",
       "      <td>岡林 勇希</td>\n",
       "      <td>0-0</td>\n",
       "    </tr>\n",
       "    <tr>\n",
       "      <th>3</th>\n",
       "      <td>3</td>\n",
       "      <td>スライダー</td>\n",
       "      <td>132km/h</td>\n",
       "      <td>二ゴロ</td>\n",
       "      <td>菅野 智之</td>\n",
       "      <td>岡林 勇希</td>\n",
       "      <td>0-0</td>\n",
       "    </tr>\n",
       "    <tr>\n",
       "      <th>4</th>\n",
       "      <td>1</td>\n",
       "      <td>ツーシーム</td>\n",
       "      <td>147km/h</td>\n",
       "      <td>ボール</td>\n",
       "      <td>菅野 智之</td>\n",
       "      <td>福留 孝介</td>\n",
       "      <td>0-0</td>\n",
       "    </tr>\n",
       "  </tbody>\n",
       "</table>\n",
       "</div>"
      ],
      "text/plain": [
       "   投球数      球種       球速   結果     投手     打者  スコア\n",
       "0    1   ストレート  147km/h   中飛  菅野 智之  大島 洋平  0-0\n",
       "1    1   ストレート  144km/h  ボール  菅野 智之  岡林 勇希  0-0\n",
       "2    2  カットボール  139km/h  見逃し  菅野 智之  岡林 勇希  0-0\n",
       "3    3   スライダー  132km/h  二ゴロ  菅野 智之  岡林 勇希  0-0\n",
       "4    1   ツーシーム  147km/h  ボール  菅野 智之  福留 孝介  0-0"
      ]
     },
     "metadata": {},
     "output_type": "display_data"
    }
   ],
   "source": [
    "#データ読み出し\n",
    "display(df.head())"
   ]
  },
  {
   "cell_type": "code",
   "execution_count": 30,
   "id": "56db1981-7633-4832-8a14-659c2eaa21f4",
   "metadata": {},
   "outputs": [
    {
     "data": {
      "text/plain": [
       "0     中飛\n",
       "1    ボール\n",
       "2    見逃し\n",
       "3    二ゴロ\n",
       "4    ボール\n",
       "Name: 結果, dtype: object"
      ]
     },
     "metadata": {},
     "output_type": "display_data"
    }
   ],
   "source": [
    "#結果の列を読み出す\n",
    "df_1 = df['結果']\n",
    "display(df_1.head())"
   ]
  },
  {
   "cell_type": "code",
   "execution_count": 31,
   "id": "46182494-7cef-4aec-af76-7711e8130d1e",
   "metadata": {},
   "outputs": [
    {
     "name": "stdout",
     "output_type": "stream",
     "text": [
      "中飛\n",
      "ボール\n",
      "見逃し\n",
      "二ゴロ\n",
      "ボール\n",
      "見逃し\n",
      "ボール\n",
      "空振り\n",
      "ファウル\n",
      "二ゴロ\n"
     ]
    }
   ],
   "source": [
    "#forループで取り出す\n",
    "cnt = 0\n",
    "for i in df_1:\n",
    "    if cnt == 10:\n",
    "        break\n",
    "    print(i)\n",
    "    cnt += 1"
   ]
  },
  {
   "cell_type": "code",
   "execution_count": 32,
   "id": "382880cd-ecda-42e3-a507-94395d3440c5",
   "metadata": {},
   "outputs": [],
   "source": [
    "#バント失敗\n",
    "#好プレイ\n",
    "#ジャンピングキャッチ\n",
    "#ダイビングキャッチ\n",
    "#スライディングキャッチ\n",
    "#リプレー検証\n",
    "#リプレー検証後判定変わらず\n",
    "#リプレー検証後判定覆る\n",
    "#観客ため息\n",
    "#エラーは「失」の文字が結果に入る\n",
    "#forループでエラー"
   ]
  },
  {
   "cell_type": "code",
   "execution_count": 48,
   "id": "f66e1d5a-9cfe-436b-942f-2f751f4e7ae6",
   "metadata": {},
   "outputs": [],
   "source": [
    "#[結果]ラベルのみforループでエラーを取り出す\n",
    "for i in df_1:\n",
    "    if ('投失' in i) or ('捕失' in i) or ('一失' in i) or ('二失' in i) or ('三失' in i) or ('遊失' in i) or ('エラー' in i) or ('エラー' in i) or ('落球' in i):\n",
    "        #print(i)\n",
    "        break"
   ]
  },
  {
   "cell_type": "code",
   "execution_count": 49,
   "id": "d7ac5701-41ad-4d87-bc31-b78d7f3389e2",
   "metadata": {},
   "outputs": [],
   "source": [
    "#[結果]ラベルのみforループで好プレーを取り出す\n",
    "for i in df_1:\n",
    "    if ('好プレイ' in i) or ('ジャンピングキャッチ' in i) or ('ダイビングキャッチ' in i) or ('スライディングキャッチ' in i):\n",
    "        #print(i)\n",
    "        break"
   ]
  },
  {
   "cell_type": "code",
   "execution_count": 51,
   "id": "6d6f78c2-4d83-489f-8d5d-bf6435714a05",
   "metadata": {},
   "outputs": [
    {
     "name": "stdout",
     "output_type": "stream",
     "text": [
      "66\n"
     ]
    }
   ],
   "source": [
    "#1行ずつ取り出したforループでリプレー検証に関わるプレーを取り出す\n",
    "cnt = 0\n",
    "for data in df.itertuples():\n",
    "    if ('リプレー検証' in data.結果) or ('リプレー検証後判定変わらず' in data.結果) or ('リプレー検証後判定覆る' in data.結果):\n",
    "        #print(data.結果)\n",
    "        cnt += 1 \n",
    "        #break\n",
    "print(cnt)        "
   ]
  },
  {
   "cell_type": "code",
   "execution_count": 110,
   "id": "b454cfb7-3af9-4983-8947-573b5bf6ef7c",
   "metadata": {},
   "outputs": [
    {
     "name": "stdout",
     "output_type": "stream",
     "text": [
      "一安  [バウンド高い、素手で捕球、リプレー検証後判定変わらず]\n",
      "1\n"
     ]
    }
   ],
   "source": [
    "#1行ずつ取り出したforループでリプレー検証に関わるプレーを取り出す\n",
    "#その次のプレーの結果を見たい\n",
    "#その次のプレーの詳細を見る\n",
    "#グラフにする？\n",
    "print(df.iat[163,3])\n",
    "print(df.iat[0,0])"
   ]
  },
  {
   "cell_type": "code",
   "execution_count": 112,
   "id": "bb47e11e-380d-44bd-9776-3dceebcc4c8d",
   "metadata": {},
   "outputs": [
    {
     "name": "stdout",
     "output_type": "stream",
     "text": [
      "一安  [バウンド高い、素手で捕球、リプレー検証後判定変わらず] 163\n",
      "一安  [バウンド高い、素手で捕球、リプレー検証後判定変わらず]\n"
     ]
    },
    {
     "ename": "TypeError",
     "evalue": "'_iAtIndexer' object is not callable",
     "output_type": "error",
     "traceback": [
      "\u001b[1;31m---------------------------------------------------------------------------\u001b[0m",
      "\u001b[1;31mTypeError\u001b[0m                                 Traceback (most recent call last)",
      "\u001b[1;32m~\\AppData\\Local\\Temp/ipykernel_9444/3918256168.py\u001b[0m in \u001b[0;36m<module>\u001b[1;34m\u001b[0m\n\u001b[0;32m      6\u001b[0m         \u001b[0mprint\u001b[0m\u001b[1;33m(\u001b[0m\u001b[0mdata\u001b[0m\u001b[1;33m[\u001b[0m\u001b[1;34m'結果'\u001b[0m\u001b[1;33m]\u001b[0m\u001b[1;33m,\u001b[0m\u001b[0mindex\u001b[0m\u001b[1;33m)\u001b[0m\u001b[1;33m\u001b[0m\u001b[1;33m\u001b[0m\u001b[0m\n\u001b[0;32m      7\u001b[0m         \u001b[0mprint\u001b[0m\u001b[1;33m(\u001b[0m\u001b[0mdf\u001b[0m\u001b[1;33m.\u001b[0m\u001b[0miat\u001b[0m\u001b[1;33m[\u001b[0m\u001b[0mindex\u001b[0m\u001b[1;33m,\u001b[0m\u001b[1;36m3\u001b[0m\u001b[1;33m]\u001b[0m\u001b[1;33m)\u001b[0m\u001b[1;33m\u001b[0m\u001b[1;33m\u001b[0m\u001b[0m\n\u001b[1;32m----> 8\u001b[1;33m         \u001b[1;32mfor\u001b[0m \u001b[0mi\u001b[0m \u001b[1;32min\u001b[0m \u001b[0mrange\u001b[0m\u001b[1;33m(\u001b[0m\u001b[0mdf\u001b[0m\u001b[1;33m.\u001b[0m\u001b[0miat\u001b[0m\u001b[1;33m(\u001b[0m\u001b[0mindex\u001b[0m\u001b[1;33m,\u001b[0m\u001b[1;36m3\u001b[0m\u001b[1;33m)\u001b[0m\u001b[1;33m,\u001b[0m\u001b[0mdf\u001b[0m\u001b[1;33m.\u001b[0m\u001b[0miat\u001b[0m\u001b[1;33m(\u001b[0m\u001b[0mindex\u001b[0m\u001b[1;33m+\u001b[0m\u001b[1;36m3\u001b[0m\u001b[1;33m,\u001b[0m\u001b[1;36m3\u001b[0m\u001b[1;33m)\u001b[0m\u001b[1;33m)\u001b[0m\u001b[1;33m:\u001b[0m\u001b[1;33m\u001b[0m\u001b[1;33m\u001b[0m\u001b[0m\n\u001b[0m\u001b[0;32m      9\u001b[0m             \u001b[0mprint\u001b[0m\u001b[1;33m(\u001b[0m\u001b[0mi\u001b[0m\u001b[1;33m)\u001b[0m\u001b[1;33m\u001b[0m\u001b[1;33m\u001b[0m\u001b[0m\n\u001b[0;32m     10\u001b[0m         \u001b[1;31m#for i in #ここに該当プレー後のプレイ全体:\u001b[0m\u001b[1;33m\u001b[0m\u001b[1;33m\u001b[0m\u001b[1;33m\u001b[0m\u001b[0m\n",
      "\u001b[1;31mTypeError\u001b[0m: '_iAtIndexer' object is not callable"
     ]
    }
   ],
   "source": [
    "#1行ずつ取り出したforループでリプレー検証に関わるプレーを取り出す\n",
    "cnt = 0\n",
    "array = []\n",
    "for index,data in df.iterrows():\n",
    "    if ('リプレー検証' in data['結果']) or ('リプレー検証後判定変わらず' in data['結果']) or ('リプレー検証後判定覆る' in data['結果']):\n",
    "        print(data['結果'],index)\n",
    "        print(df.iat[index,3])\n",
    "        for i in range(df.iat(index,3),df.iat(index+3,3)):\n",
    "            print(i)\n",
    "        #for i in ここに該当プレー後のプレイ全体:\n",
    "            #もし結果がすでに出ていれば(ボール、見逃し、空振り、ファール)\n",
    "            #その結果を配列などのデータセットに入れる\n",
    "            #そうでなければ結果がでるまで続行\n",
    "        #cnt += 1\n",
    "        #if cnt == 10:\n",
    "            #break\n",
    "#print(cnt)"
   ]
  },
  {
   "cell_type": "code",
   "execution_count": null,
   "id": "88b38b6b-0a89-4877-9b92-9dd4a825fa56",
   "metadata": {},
   "outputs": [],
   "source": []
  }
 ],
 "metadata": {
  "kernelspec": {
   "display_name": "Python 3 (ipykernel)",
   "language": "python",
   "name": "python3"
  },
  "language_info": {
   "codemirror_mode": {
    "name": "ipython",
    "version": 3
   },
   "file_extension": ".py",
   "mimetype": "text/x-python",
   "name": "python",
   "nbconvert_exporter": "python",
   "pygments_lexer": "ipython3",
   "version": "3.8.11"
  }
 },
 "nbformat": 4,
 "nbformat_minor": 5
}
