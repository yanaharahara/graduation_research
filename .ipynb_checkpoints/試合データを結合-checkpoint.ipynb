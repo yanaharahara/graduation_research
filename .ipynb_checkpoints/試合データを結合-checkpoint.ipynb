{
 "cells": [
  {
   "cell_type": "code",
   "execution_count": 2,
   "id": "32228283-c19a-44fb-9b08-4768db5fe429",
   "metadata": {},
   "outputs": [
    {
     "name": "stdout",
     "output_type": "stream",
     "text": [
      "data\\1_game_results_1_100.csv\n",
      "data\\2_game_results_101_200.csv\n",
      "data\\3_game_results_201_300.csv\n",
      "data\\4_game_results_301_400.csv\n",
      "data\\5_game_results_401_500.csv\n",
      "data\\6_game_results_501_600.csv\n",
      "data\\7_game_results_601_696.csv\n"
     ]
    }
   ],
   "source": [
    "import pandas as pd\n",
    "import glob\n",
    "\n",
    "# パスで指定したファイルの一覧をリスト形式で取得. （ここでは一階層下のdataファイル以下）\n",
    "csv_files = glob.glob('data/*.csv')\n",
    "\n",
    "#読み込むファイルのリストを表示\n",
    "for a in csv_files:\n",
    "    print(a)\n",
    "\n",
    "#csvファイルの中身を追加していくリストを用意\n",
    "data_list = []\n",
    "\n",
    "#読み込むファイルのリストを走査\n",
    "for file in csv_files:\n",
    "    data_list.append(pd.read_csv(file))\n",
    "\n",
    "#リストを全て行方向に結合\n",
    "#axis=0:行方向に結合, sort\n",
    "df = pd.concat(data_list, axis=0, sort=False)\n",
    "\n",
    "df.to_csv(\"data/allgame_result.csv\",index=False)"
   ]
  },
  {
   "cell_type": "code",
   "execution_count": null,
   "id": "e52fb8b4-b1db-4483-bfae-7cae6f8376ea",
   "metadata": {},
   "outputs": [],
   "source": []
  }
 ],
 "metadata": {
  "kernelspec": {
   "display_name": "Python 3 (ipykernel)",
   "language": "python",
   "name": "python3"
  },
  "language_info": {
   "codemirror_mode": {
    "name": "ipython",
    "version": 3
   },
   "file_extension": ".py",
   "mimetype": "text/x-python",
   "name": "python",
   "nbconvert_exporter": "python",
   "pygments_lexer": "ipython3",
   "version": "3.8.11"
  }
 },
 "nbformat": 4,
 "nbformat_minor": 5
}
