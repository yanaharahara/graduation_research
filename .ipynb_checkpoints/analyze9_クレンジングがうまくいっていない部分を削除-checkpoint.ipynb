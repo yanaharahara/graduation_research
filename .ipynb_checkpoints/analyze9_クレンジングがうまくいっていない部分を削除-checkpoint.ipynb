{
 "cells": [
  {
   "cell_type": "code",
   "execution_count": 6,
   "id": "898a777a-ca5e-427f-951b-04b0a02eee4a",
   "metadata": {},
   "outputs": [],
   "source": [
    "import pandas as pd"
   ]
  },
  {
   "cell_type": "code",
   "execution_count": 7,
   "id": "637308ca-0e09-4d54-8546-767a90739e5d",
   "metadata": {},
   "outputs": [
    {
     "data": {
      "text/html": [
       "<div>\n",
       "<style scoped>\n",
       "    .dataframe tbody tr th:only-of-type {\n",
       "        vertical-align: middle;\n",
       "    }\n",
       "\n",
       "    .dataframe tbody tr th {\n",
       "        vertical-align: top;\n",
       "    }\n",
       "\n",
       "    .dataframe thead th {\n",
       "        text-align: right;\n",
       "    }\n",
       "</style>\n",
       "<table border=\"1\" class=\"dataframe\">\n",
       "  <thead>\n",
       "    <tr style=\"text-align: right;\">\n",
       "      <th></th>\n",
       "      <th>投球数</th>\n",
       "      <th>球種</th>\n",
       "      <th>球速</th>\n",
       "      <th>結果</th>\n",
       "      <th>投手</th>\n",
       "      <th>打者</th>\n",
       "      <th>スコア</th>\n",
       "      <th>アウトカウント</th>\n",
       "    </tr>\n",
       "  </thead>\n",
       "  <tbody>\n",
       "    <tr>\n",
       "      <th>0</th>\n",
       "      <td>1</td>\n",
       "      <td>ストレート</td>\n",
       "      <td>147km/h</td>\n",
       "      <td>中飛</td>\n",
       "      <td>菅野 智之</td>\n",
       "      <td>大島 洋平</td>\n",
       "      <td>0-0</td>\n",
       "      <td>1</td>\n",
       "    </tr>\n",
       "    <tr>\n",
       "      <th>1</th>\n",
       "      <td>1</td>\n",
       "      <td>ストレート</td>\n",
       "      <td>144km/h</td>\n",
       "      <td>ボール</td>\n",
       "      <td>菅野 智之</td>\n",
       "      <td>岡林 勇希</td>\n",
       "      <td>0-0</td>\n",
       "      <td>2</td>\n",
       "    </tr>\n",
       "    <tr>\n",
       "      <th>2</th>\n",
       "      <td>2</td>\n",
       "      <td>カットボール</td>\n",
       "      <td>139km/h</td>\n",
       "      <td>見逃し</td>\n",
       "      <td>菅野 智之</td>\n",
       "      <td>岡林 勇希</td>\n",
       "      <td>0-0</td>\n",
       "      <td>2</td>\n",
       "    </tr>\n",
       "    <tr>\n",
       "      <th>3</th>\n",
       "      <td>3</td>\n",
       "      <td>スライダー</td>\n",
       "      <td>132km/h</td>\n",
       "      <td>二ゴロ</td>\n",
       "      <td>菅野 智之</td>\n",
       "      <td>岡林 勇希</td>\n",
       "      <td>0-0</td>\n",
       "      <td>2</td>\n",
       "    </tr>\n",
       "    <tr>\n",
       "      <th>4</th>\n",
       "      <td>1</td>\n",
       "      <td>ツーシーム</td>\n",
       "      <td>147km/h</td>\n",
       "      <td>ボール</td>\n",
       "      <td>菅野 智之</td>\n",
       "      <td>福留 孝介</td>\n",
       "      <td>0-0</td>\n",
       "      <td>3</td>\n",
       "    </tr>\n",
       "  </tbody>\n",
       "</table>\n",
       "</div>"
      ],
      "text/plain": [
       "   投球数      球種       球速   結果     投手     打者  スコア  アウトカウント\n",
       "0    1   ストレート  147km/h   中飛  菅野 智之  大島 洋平  0-0        1\n",
       "1    1   ストレート  144km/h  ボール  菅野 智之  岡林 勇希  0-0        2\n",
       "2    2  カットボール  139km/h  見逃し  菅野 智之  岡林 勇希  0-0        2\n",
       "3    3   スライダー  132km/h  二ゴロ  菅野 智之  岡林 勇希  0-0        2\n",
       "4    1   ツーシーム  147km/h  ボール  菅野 智之  福留 孝介  0-0        3"
      ]
     },
     "metadata": {},
     "output_type": "display_data"
    },
    {
     "name": "stdout",
     "output_type": "stream",
     "text": [
      "238040\n"
     ]
    }
   ],
   "source": [
    "#データ読み込み&表示\n",
    "#df = pd.read_csv('data/allgame_result.csv')\n",
    "df = pd.read_csv('data/allgame_result_corrected.csv')\n",
    "display(df.head())\n",
    "length = df.shape[0]\n",
    "print(length)"
   ]
  },
  {
   "cell_type": "code",
   "execution_count": 8,
   "id": "5229e2e5-f16a-469d-8bed-d7359cbb6a76",
   "metadata": {},
   "outputs": [],
   "source": [
    "#98832\n",
    "df[98828:98831]\n",
    "array = [98828,98829]"
   ]
  },
  {
   "cell_type": "code",
   "execution_count": 9,
   "id": "6a4c19af-4706-42c8-871b-90ccf81bbddd",
   "metadata": {},
   "outputs": [
    {
     "name": "stdout",
     "output_type": "stream",
     "text": [
      "238038\n",
      "238038\n"
     ]
    },
    {
     "name": "stderr",
     "output_type": "stream",
     "text": [
      "C:\\Users\\yutay\\anaconda3\\lib\\site-packages\\pandas\\core\\indexes\\base.py:4616: FutureWarning: Using a non-tuple sequence for multidimensional indexing is deprecated; use `arr[tuple(seq)]` instead of `arr[seq]`. In the future this will be interpreted as an array index, `arr[np.array(seq)]`, which will result either in an error or a different result.\n",
      "  result = getitem(key)\n"
     ]
    }
   ],
   "source": [
    "#該当箇所を削除&データフレームの該当箇所が削除されたかを確認\n",
    "df = df.drop(df.index[[array]])\n",
    "length = df.shape[0]\n",
    "print(length)\n",
    "print(238040-2)\n",
    "\n",
    "#indexを振り直す\n",
    "df = df.reset_index(drop=True)"
   ]
  },
  {
   "cell_type": "code",
   "execution_count": 10,
   "id": "9d440b9c-e97c-4546-b023-d78a58a7bd26",
   "metadata": {},
   "outputs": [],
   "source": [
    "df.to_csv('data/allgame_result_corrected.csv',index=False)"
   ]
  },
  {
   "cell_type": "code",
   "execution_count": null,
   "id": "3e5a2fc7-9585-4fae-aaf9-2bee1863f1c4",
   "metadata": {},
   "outputs": [],
   "source": []
  }
 ],
 "metadata": {
  "kernelspec": {
   "display_name": "Python 3 (ipykernel)",
   "language": "python",
   "name": "python3"
  },
  "language_info": {
   "codemirror_mode": {
    "name": "ipython",
    "version": 3
   },
   "file_extension": ".py",
   "mimetype": "text/x-python",
   "name": "python",
   "nbconvert_exporter": "python",
   "pygments_lexer": "ipython3",
   "version": "3.8.11"
  }
 },
 "nbformat": 4,
 "nbformat_minor": 5
}
