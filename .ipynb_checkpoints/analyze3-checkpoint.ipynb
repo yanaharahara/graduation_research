{
 "cells": [
  {
   "cell_type": "code",
   "execution_count": 1,
   "id": "57ac13bc-c035-42da-b77f-3cc9b13725b6",
   "metadata": {},
   "outputs": [],
   "source": [
    "import pandas as pd"
   ]
  },
  {
   "cell_type": "code",
   "execution_count": 2,
   "id": "3f4bab06-86dc-4efb-babf-0cbf87bf3e1b",
   "metadata": {},
   "outputs": [
    {
     "data": {
      "text/html": [
       "<div>\n",
       "<style scoped>\n",
       "    .dataframe tbody tr th:only-of-type {\n",
       "        vertical-align: middle;\n",
       "    }\n",
       "\n",
       "    .dataframe tbody tr th {\n",
       "        vertical-align: top;\n",
       "    }\n",
       "\n",
       "    .dataframe thead th {\n",
       "        text-align: right;\n",
       "    }\n",
       "</style>\n",
       "<table border=\"1\" class=\"dataframe\">\n",
       "  <thead>\n",
       "    <tr style=\"text-align: right;\">\n",
       "      <th></th>\n",
       "      <th>投球数</th>\n",
       "      <th>球種</th>\n",
       "      <th>球速</th>\n",
       "      <th>結果</th>\n",
       "      <th>投手</th>\n",
       "      <th>打者</th>\n",
       "      <th>スコア</th>\n",
       "    </tr>\n",
       "  </thead>\n",
       "  <tbody>\n",
       "    <tr>\n",
       "      <th>0</th>\n",
       "      <td>1</td>\n",
       "      <td>ストレート</td>\n",
       "      <td>147km/h</td>\n",
       "      <td>中飛</td>\n",
       "      <td>菅野 智之</td>\n",
       "      <td>大島 洋平</td>\n",
       "      <td>0-0</td>\n",
       "    </tr>\n",
       "    <tr>\n",
       "      <th>1</th>\n",
       "      <td>1</td>\n",
       "      <td>ストレート</td>\n",
       "      <td>144km/h</td>\n",
       "      <td>ボール</td>\n",
       "      <td>菅野 智之</td>\n",
       "      <td>岡林 勇希</td>\n",
       "      <td>0-0</td>\n",
       "    </tr>\n",
       "    <tr>\n",
       "      <th>2</th>\n",
       "      <td>2</td>\n",
       "      <td>カットボール</td>\n",
       "      <td>139km/h</td>\n",
       "      <td>見逃し</td>\n",
       "      <td>菅野 智之</td>\n",
       "      <td>岡林 勇希</td>\n",
       "      <td>0-0</td>\n",
       "    </tr>\n",
       "    <tr>\n",
       "      <th>3</th>\n",
       "      <td>3</td>\n",
       "      <td>スライダー</td>\n",
       "      <td>132km/h</td>\n",
       "      <td>二ゴロ</td>\n",
       "      <td>菅野 智之</td>\n",
       "      <td>岡林 勇希</td>\n",
       "      <td>0-0</td>\n",
       "    </tr>\n",
       "    <tr>\n",
       "      <th>4</th>\n",
       "      <td>1</td>\n",
       "      <td>ツーシーム</td>\n",
       "      <td>147km/h</td>\n",
       "      <td>ボール</td>\n",
       "      <td>菅野 智之</td>\n",
       "      <td>福留 孝介</td>\n",
       "      <td>0-0</td>\n",
       "    </tr>\n",
       "  </tbody>\n",
       "</table>\n",
       "</div>"
      ],
      "text/plain": [
       "   投球数      球種       球速   結果     投手     打者  スコア\n",
       "0    1   ストレート  147km/h   中飛  菅野 智之  大島 洋平  0-0\n",
       "1    1   ストレート  144km/h  ボール  菅野 智之  岡林 勇希  0-0\n",
       "2    2  カットボール  139km/h  見逃し  菅野 智之  岡林 勇希  0-0\n",
       "3    3   スライダー  132km/h  二ゴロ  菅野 智之  岡林 勇希  0-0\n",
       "4    1   ツーシーム  147km/h  ボール  菅野 智之  福留 孝介  0-0"
      ]
     },
     "metadata": {},
     "output_type": "display_data"
    },
    {
     "name": "stdout",
     "output_type": "stream",
     "text": [
      "26297\n"
     ]
    }
   ],
   "source": [
    "#データ読み込み&表示\n",
    "#df = pd.read_csv('data/allgame_result.csv')\n",
    "df = pd.read_csv('data/1_game_results_1_100.csv')\n",
    "display(df.head())\n",
    "length = df.shape[0]\n",
    "print(length)"
   ]
  },
  {
   "cell_type": "code",
   "execution_count": 3,
   "id": "be28eded-abf4-469a-87cb-4a0d954f565e",
   "metadata": {},
   "outputs": [
    {
     "name": "stdout",
     "output_type": "stream",
     "text": [
      "重複していた場所は55箇所\n",
      "[164, 433, 1203, 1248, 1886, 4456, 4862, 5024, 5683, 5864, 6367, 6858, 7144, 8464, 8803, 9855, 9856, 10254, 11027, 11811, 11824, 11914, 12060, 12240, 12391, 12566, 13122, 13152, 13684, 13732, 13804, 14176, 14290, 14592, 14820, 14955, 15683, 16075, 16581, 16957, 17264, 17446, 18561, 18778, 20205, 20614, 21239, 21242, 21640, 22702, 23217, 23772, 24443, 25485, 25931]\n"
     ]
    }
   ],
   "source": [
    "#前後で投球数が同じでかつ打者も同じ行は削除する\n",
    "cnt = 0\n",
    "length = df.shape[0]\n",
    "prev_num = 0\n",
    "now_num = 0\n",
    "prev_batter = ''\n",
    "now_batter = ''\n",
    "length = df.shape[0]\n",
    "array = []\n",
    "\n",
    "for index,data in df.iterrows():\n",
    "    #最後の行まで来たらbreak\n",
    "    if index + 1 == length:\n",
    "        break\n",
    "    #投球数と打者を取り出す    \n",
    "    prev_num = df.iat[index,0]\n",
    "    now_num = df.iat[index+1,0]\n",
    "    prev_batter = df.iat[index,5]         \n",
    "    now_batter = df.iat[index+1,5]\n",
    "    #もし前後の投球数と前後の打者名が同じであればエラーなのでprev_***の行を消す\n",
    "    if (prev_num == now_num) and (prev_batter == now_batter):\n",
    "        array.append(index)\n",
    "        cnt += 1\n",
    "        \n",
    "print('重複していた場所は'+str(cnt)+'箇所')\n",
    "print(array)"
   ]
  },
  {
   "cell_type": "code",
   "execution_count": 4,
   "id": "d5a332a8-710d-421e-9b1b-a2ab19cb58c9",
   "metadata": {},
   "outputs": [
    {
     "name": "stdout",
     "output_type": "stream",
     "text": [
      "26242\n",
      "26242\n"
     ]
    },
    {
     "name": "stderr",
     "output_type": "stream",
     "text": [
      "C:\\Users\\yutay\\anaconda3\\lib\\site-packages\\pandas\\core\\indexes\\base.py:4616: FutureWarning: Using a non-tuple sequence for multidimensional indexing is deprecated; use `arr[tuple(seq)]` instead of `arr[seq]`. In the future this will be interpreted as an array index, `arr[np.array(seq)]`, which will result either in an error or a different result.\n",
      "  result = getitem(key)\n"
     ]
    }
   ],
   "source": [
    "#該当箇所を削除&データフレームの該当箇所が削除されたかを確認\n",
    "df = df.drop(df.index[[array]])\n",
    "length = df.shape[0]\n",
    "print(length)\n",
    "print(26297-55)"
   ]
  },
  {
   "cell_type": "code",
   "execution_count": 5,
   "id": "bfc91b16-4ee4-4afc-bebb-638869fc98b2",
   "metadata": {},
   "outputs": [],
   "source": [
    "#indexを振り直す\n",
    "df = df.reset_index(drop=True)"
   ]
  },
  {
   "cell_type": "code",
   "execution_count": 6,
   "id": "23400ce6-1d17-40ff-a2bb-bc23ddc1017e",
   "metadata": {},
   "outputs": [],
   "source": [
    "#確認のためdf全体を表示\n",
    "#pd.set_option('display.max_rows', None)\n",
    "#pd.set_option('display.max_columns', None)\n",
    "#df"
   ]
  },
  {
   "cell_type": "code",
   "execution_count": 7,
   "id": "482dcc4e-fa42-454c-84b0-19a8a0bfba08",
   "metadata": {},
   "outputs": [
    {
     "name": "stdout",
     "output_type": "stream",
     "text": [
      "重複していた場所は64箇所\n",
      "[1207, 1206, 2305, 2304, 2303, 2302, 2301, 4285, 4284, 4283, 4282, 5195, 5194, 5193, 5192, 5344, 5343, 5342, 5341, 7210, 7209, 7208, 8752, 8751, 8750, 9435, 9434, 9433, 9432, 9431, 12345, 12344, 13113, 13112, 13111, 14568, 14567, 16164, 16163, 16162, 16280, 16279, 16278, 16896, 16895, 16894, 18283, 18282, 18281, 18280, 19324, 19323, 19322, 19321, 19320, 21270, 21269, 21268, 21267, 23580, 23579, 23578, 24919, 24918]\n",
      "[1206, 1207, 2301, 2302, 2303, 2304, 2305, 4282, 4283, 4284, 4285, 5192, 5193, 5194, 5195, 5341, 5342, 5343, 5344, 7208, 7209, 7210, 8750, 8751, 8752, 9431, 9432, 9433, 9434, 9435, 12344, 12345, 13111, 13112, 13113, 14567, 14568, 16162, 16163, 16164, 16278, 16279, 16280, 16894, 16895, 16896, 18280, 18281, 18282, 18283, 19320, 19321, 19322, 19323, 19324, 21267, 21268, 21269, 21270, 23578, 23579, 23580, 24918, 24919]\n"
     ]
    }
   ],
   "source": [
    "#打者でスコアが変わっている→打者名は同じだがスコアは異なる行は削除する\n",
    "#もし打者名は前後で同じだが前後のスコアが異なる場合 \n",
    "cnt = 0\n",
    "length = df.shape[0]\n",
    "prev_score = '' #スコア列は文字列のため\n",
    "now_score = '' #スコア列は文字列のため\n",
    "prev_batter = ''\n",
    "now_batter = ''\n",
    "length = df.shape[0]\n",
    "array = []\n",
    "\n",
    "for index,data in df.iterrows():\n",
    "    #最後の行まで来たらbreak\n",
    "    if index + 1 == length:\n",
    "        break\n",
    "    \n",
    "    #スコアと打者を取り出す    \n",
    "    prev_score = df.iat[index,6]\n",
    "    now_score = df.iat[index+1,6]\n",
    "    prev_batter = df.iat[index,5]         \n",
    "    now_batter = df.iat[index+1,5]\n",
    "    \n",
    "    #もし前後で打者名が同じなのにスコアが異なる場合はエラーなのでprev_***の行を消す\n",
    "    if (prev_batter == now_batter) and (prev_score != now_score):\n",
    "        array.append(index)\n",
    "        i = index\n",
    "        now_batter = df.iat[i,5]\n",
    "        i = index - 1\n",
    "        prev_batter = df.iat[i,5]\n",
    "        while now_batter == prev_batter:\n",
    "            array.append(i)\n",
    "            now_batter = prev_batter\n",
    "            i -= 1\n",
    "            prev_batter = df.iat[i,5]\n",
    "            cnt += 1\n",
    "        cnt += 1\n",
    "        \n",
    "print('重複していた場所は'+str(cnt)+'箇所')\n",
    "print(array)\n",
    "#昇順にソート\n",
    "array.sort()\n",
    "print(array)"
   ]
  },
  {
   "cell_type": "code",
   "execution_count": 8,
   "id": "0f6bf36e-7b0f-42a4-b11b-987b232af0e8",
   "metadata": {},
   "outputs": [
    {
     "name": "stdout",
     "output_type": "stream",
     "text": [
      "26178\n",
      "26178\n"
     ]
    }
   ],
   "source": [
    "#該当箇所を削除＆チェック\n",
    "df = df.drop(df.index[[array]])\n",
    "length = df.shape[0]\n",
    "print(length)\n",
    "print(26242-64)"
   ]
  },
  {
   "cell_type": "code",
   "execution_count": 9,
   "id": "1b57aa22-bbd2-4c32-8d4d-c12502dca35c",
   "metadata": {},
   "outputs": [],
   "source": [
    "#indexを振り直す\n",
    "df = df.reset_index(drop=True)"
   ]
  },
  {
   "cell_type": "code",
   "execution_count": 10,
   "id": "c9fcf4c9-813a-4db6-8e94-8aa82b0495bb",
   "metadata": {},
   "outputs": [],
   "source": [
    "#確認のためdf全体を表示\n",
    "#pd.set_option('display.max_rows', None)\n",
    "#pd.set_option('display.max_columns', None)\n",
    "#pd.options.display.max_columns=999 最大値を設定\n",
    "#pd.options.display.max_rows=999 最大値を設定\n",
    "#df"
   ]
  },
  {
   "cell_type": "markdown",
   "id": "9624dfe6-42c8-4ce4-b1c5-803481fc4cff",
   "metadata": {},
   "source": [
    "<b>ここまでがクレンジング部分<br>\n",
    "次からは該当プレー(リプレー検証)後のプレーを取り出す"
   ]
  },
  {
   "cell_type": "code",
   "execution_count": 22,
   "id": "6170aa19-c839-47c9-b770-017c8e8ccb63",
   "metadata": {},
   "outputs": [
    {
     "data": {
      "text/html": [
       "<div>\n",
       "<style scoped>\n",
       "    .dataframe tbody tr th:only-of-type {\n",
       "        vertical-align: middle;\n",
       "    }\n",
       "\n",
       "    .dataframe tbody tr th {\n",
       "        vertical-align: top;\n",
       "    }\n",
       "\n",
       "    .dataframe thead th {\n",
       "        text-align: right;\n",
       "    }\n",
       "</style>\n",
       "<table border=\"1\" class=\"dataframe\">\n",
       "  <thead>\n",
       "    <tr style=\"text-align: right;\">\n",
       "      <th></th>\n",
       "      <th>投球数</th>\n",
       "      <th>球種</th>\n",
       "      <th>球速</th>\n",
       "      <th>結果</th>\n",
       "      <th>投手</th>\n",
       "      <th>打者</th>\n",
       "      <th>スコア</th>\n",
       "      <th>アウトカウント</th>\n",
       "    </tr>\n",
       "  </thead>\n",
       "  <tbody>\n",
       "    <tr>\n",
       "      <th>0</th>\n",
       "      <td>1</td>\n",
       "      <td>ストレート</td>\n",
       "      <td>147km/h</td>\n",
       "      <td>中飛</td>\n",
       "      <td>菅野 智之</td>\n",
       "      <td>大島 洋平</td>\n",
       "      <td>0-0</td>\n",
       "      <td>1</td>\n",
       "    </tr>\n",
       "    <tr>\n",
       "      <th>1</th>\n",
       "      <td>1</td>\n",
       "      <td>ストレート</td>\n",
       "      <td>144km/h</td>\n",
       "      <td>ボール</td>\n",
       "      <td>菅野 智之</td>\n",
       "      <td>岡林 勇希</td>\n",
       "      <td>0-0</td>\n",
       "      <td>1</td>\n",
       "    </tr>\n",
       "    <tr>\n",
       "      <th>2</th>\n",
       "      <td>2</td>\n",
       "      <td>カットボール</td>\n",
       "      <td>139km/h</td>\n",
       "      <td>見逃し</td>\n",
       "      <td>菅野 智之</td>\n",
       "      <td>岡林 勇希</td>\n",
       "      <td>0-0</td>\n",
       "      <td>1</td>\n",
       "    </tr>\n",
       "    <tr>\n",
       "      <th>3</th>\n",
       "      <td>3</td>\n",
       "      <td>スライダー</td>\n",
       "      <td>132km/h</td>\n",
       "      <td>二ゴロ</td>\n",
       "      <td>菅野 智之</td>\n",
       "      <td>岡林 勇希</td>\n",
       "      <td>0-0</td>\n",
       "      <td>2</td>\n",
       "    </tr>\n",
       "    <tr>\n",
       "      <th>4</th>\n",
       "      <td>1</td>\n",
       "      <td>ツーシーム</td>\n",
       "      <td>147km/h</td>\n",
       "      <td>ボール</td>\n",
       "      <td>菅野 智之</td>\n",
       "      <td>福留 孝介</td>\n",
       "      <td>0-0</td>\n",
       "      <td>2</td>\n",
       "    </tr>\n",
       "    <tr>\n",
       "      <th>...</th>\n",
       "      <td>...</td>\n",
       "      <td>...</td>\n",
       "      <td>...</td>\n",
       "      <td>...</td>\n",
       "      <td>...</td>\n",
       "      <td>...</td>\n",
       "      <td>...</td>\n",
       "      <td>...</td>\n",
       "    </tr>\n",
       "    <tr>\n",
       "      <th>26173</th>\n",
       "      <td>4</td>\n",
       "      <td>カーブ</td>\n",
       "      <td>97km/h</td>\n",
       "      <td>右安</td>\n",
       "      <td>柳 裕也</td>\n",
       "      <td>近本 光司</td>\n",
       "      <td>0-4</td>\n",
       "      <td>0</td>\n",
       "    </tr>\n",
       "    <tr>\n",
       "      <th>26174</th>\n",
       "      <td>1</td>\n",
       "      <td>カットボール</td>\n",
       "      <td>-</td>\n",
       "      <td>中犠飛  [スライディングキャッチ]</td>\n",
       "      <td>柳 裕也</td>\n",
       "      <td>大山 悠輔</td>\n",
       "      <td>1-4</td>\n",
       "      <td>1</td>\n",
       "    </tr>\n",
       "    <tr>\n",
       "      <th>26175</th>\n",
       "      <td>1</td>\n",
       "      <td>カットボール</td>\n",
       "      <td>131km/h</td>\n",
       "      <td>ボール</td>\n",
       "      <td>柳 裕也</td>\n",
       "      <td>豊田 寛</td>\n",
       "      <td>1-4</td>\n",
       "      <td>1</td>\n",
       "    </tr>\n",
       "    <tr>\n",
       "      <th>26176</th>\n",
       "      <td>2</td>\n",
       "      <td>カーブ</td>\n",
       "      <td>96km/h</td>\n",
       "      <td>空振り  [ワンバウンド]</td>\n",
       "      <td>柳 裕也</td>\n",
       "      <td>豊田 寛</td>\n",
       "      <td>1-4</td>\n",
       "      <td>1</td>\n",
       "    </tr>\n",
       "    <tr>\n",
       "      <th>26177</th>\n",
       "      <td>3</td>\n",
       "      <td>ストレート</td>\n",
       "      <td>139km/h</td>\n",
       "      <td>投併打</td>\n",
       "      <td>柳 裕也</td>\n",
       "      <td>豊田 寛</td>\n",
       "      <td>1-4</td>\n",
       "      <td>3</td>\n",
       "    </tr>\n",
       "  </tbody>\n",
       "</table>\n",
       "<p>26178 rows × 8 columns</p>\n",
       "</div>"
      ],
      "text/plain": [
       "       投球数      球種       球速                  結果     投手     打者  スコア  アウトカウント\n",
       "0        1   ストレート  147km/h                  中飛  菅野 智之  大島 洋平  0-0        1\n",
       "1        1   ストレート  144km/h                 ボール  菅野 智之  岡林 勇希  0-0        1\n",
       "2        2  カットボール  139km/h                 見逃し  菅野 智之  岡林 勇希  0-0        1\n",
       "3        3   スライダー  132km/h                 二ゴロ  菅野 智之  岡林 勇希  0-0        2\n",
       "4        1   ツーシーム  147km/h                 ボール  菅野 智之  福留 孝介  0-0        2\n",
       "...    ...     ...      ...                 ...    ...    ...  ...      ...\n",
       "26173    4     カーブ   97km/h                  右安   柳 裕也  近本 光司  0-4        0\n",
       "26174    1  カットボール        -  中犠飛  [スライディングキャッチ]   柳 裕也  大山 悠輔  1-4        1\n",
       "26175    1  カットボール  131km/h                 ボール   柳 裕也   豊田 寛  1-4        1\n",
       "26176    2     カーブ   96km/h       空振り  [ワンバウンド]   柳 裕也   豊田 寛  1-4        1\n",
       "26177    3   ストレート  139km/h                 投併打   柳 裕也   豊田 寛  1-4        3\n",
       "\n",
       "[26178 rows x 8 columns]"
      ]
     },
     "metadata": {},
     "output_type": "display_data"
    }
   ],
   "source": [
    "#アウトカウントのカラムを追加する。\n",
    "\n",
    "df['アウトカウント'] = 0\n",
    "cnt = 0\n",
    "#ite = 0\n",
    "\n",
    "for index,data in df.iterrows():\n",
    "    #print(data['結果'],cnt)\n",
    "    if cnt == 3:#アウトカウントが3なら\n",
    "        #アウトカウントを0にする\n",
    "        cnt = 0\n",
    "    #正規表現で\n",
    "    if not('安' in data['結果']) and not('２' in data['結果']) and not('３' in data['結果']) and not('本' in data['結果']) and not('野選' in data['結果']) and not('四球' in data['結果']) and not('死球' in data['結果']) and not('投失' in data['結果']) and not('捕失' in data['結果']) and not('一失' in data['結果']) and not('二失' in data['結果']) and not('遊失' in data['結果']) and not('三失' in data['結果']) and not('左失' in data['結果']) and not('中失' in data['結果']) and not('右失' in data['結果']):\n",
    "        if ('ファウル' in data['結果']) or ('ボール' in data['結果']) or ('見逃し' in data['結果']) or ('空振り' in data['結果']):\n",
    "            if cnt == 3:\n",
    "                cnt = 0\n",
    "                df.iat[index,7] = cnt\n",
    "            else:\n",
    "                df.iat[index,7] = cnt\n",
    "        elif ('併打' in data['結果']):\n",
    "            #2アウト追加\n",
    "            if cnt <= 1:\n",
    "                cnt += 2\n",
    "            else:\n",
    "                cnt += 1\n",
    "            df.iat[index,7] = cnt\n",
    "        else:\n",
    "            #1アウト追加\n",
    "            cnt += 1\n",
    "            df.iat[index,7] = cnt\n",
    "    else:\n",
    "        df.iat[index,7] = cnt\n",
    "    #print(data['結果'],cnt)\n",
    "            \n",
    "#print(cnt)\n",
    "display(df)\n"
   ]
  },
  {
   "cell_type": "code",
   "execution_count": 24,
   "id": "db1aa486-e53f-4a00-bd64-46aa60f4ec56",
   "metadata": {},
   "outputs": [
    {
     "name": "stdout",
     "output_type": "stream",
     "text": [
      "[1 2 3 0]\n",
      "1    8793\n",
      "2    8637\n",
      "0    7188\n",
      "3    1560\n",
      "Name: アウトカウント, dtype: int64\n"
     ]
    }
   ],
   "source": [
    "u = df['アウトカウント'].unique()\n",
    "print(u)\n",
    "c = df['アウトカウント'].value_counts()\n",
    "print(c)\n",
    "#pd.set_option('display.max_rows', None)\n",
    "#pd.set_option('display.max_columns', None)\n",
    "#df"
   ]
  },
  {
   "cell_type": "code",
   "execution_count": null,
   "id": "de9b1585-cb46-4214-9ac7-2ef0c29594f8",
   "metadata": {},
   "outputs": [],
   "source": []
  },
  {
   "cell_type": "code",
   "execution_count": 13,
   "id": "e786d150-035c-496f-8bb5-26678ef93911",
   "metadata": {},
   "outputs": [
    {
     "name": "stdout",
     "output_type": "stream",
     "text": [
      "63\n"
     ]
    }
   ],
   "source": [
    "#リプレー検証の該当プレーの数を確認\n",
    "cnt = 0\n",
    "for index,data in df.iterrows():\n",
    "    if ('リプレー検証' in data['結果']) or ('リプレー検証後判定変わらず' in data['結果']) or ('リプレー検証後判定覆る' in data['結果']):\n",
    "        #print(data['結果'],index)\n",
    "        cnt += 1\n",
    "print(cnt)        "
   ]
  },
  {
   "cell_type": "code",
   "execution_count": 14,
   "id": "e53e90c0-ed3a-43bd-8e50-469965989306",
   "metadata": {},
   "outputs": [
    {
     "name": "stdout",
     "output_type": "stream",
     "text": [
      "['中２  [フェンス直撃]', '遊ゴロ', '左２  [泳ぎ、バットの先、内野一塁寄り]', '投ゴロ', '四球  [ワンバウンド、ランエンドヒット]', '左飛  [高々と舞い上がる]', '投犠打', '中飛', '四球', '四球', '三邪飛', '中飛', '一ゴロ  [走者動けず]', '中２  [目測を誤る]', '右２', '中２', '空三振', '遊ゴロ  [止めたバットに当たる、ランニングスロー]', '空三振', '一犠打', '遊飛  [詰り]', '中飛', '一ゴロ  [詰り]', '右２  [ライン際]', '空三振', '右安  [泳ぎ]', '空三振', '中飛', '中安', 'ボール  [ワンバウンド]', '中２', '三邪飛', '右安', '右安', '右安', '遊失', '空三振', '中飛', '二ゴロ  [バットの先]', '四球', 'ボール', '見三振', '右飛', '三ゴロ', '犠打失', '遊飛  [泳ぎ]', '中飛', '遊飛  [泳ぎ、バットの先、インフィールドフライ]', '見逃し', '右飛', '二ゴロ', '二ゴロ', '中安', '空三振  [投手吼える]', '遊併打  [悔しがる]', '四球', '左飛  [バットの先]', '投ゴロ', '二ゴロ', '遊飛', '空三振', '遊直', '三犠打  [セーフティバント]']\n",
      "63\n",
      "63\n"
     ]
    }
   ],
   "source": [
    "#1行ずつ取り出したforループでリプレー検証後に関わるプレーを取り出す\n",
    "cnt = 0\n",
    "array = []\n",
    "length = df.shape[0]\n",
    "for index,data in df.iterrows():\n",
    "    if ('リプレー検証' in data['結果']) or ('リプレー検証後判定変わらず' in data['結果']) or ('リプレー検証後判定覆る' in data['結果']):\n",
    "        cnt += 1\n",
    "        #if cnt == 10:\n",
    "            #break\n",
    "        prev = 0\n",
    "        now = 0\n",
    "        \n",
    "        for i in range(index+1,length):\n",
    "            prev = df.iat[i, 0]\n",
    "            if i==length-1:\n",
    "                array.append(df.iat[i,3])\n",
    "                break\n",
    "            \n",
    "            #リプレイ検証に関わるプレーでイニングが終了したときの処理\n",
    "            #elif df.iat[i,7] == 0 アウトカウントが0なら(次のイニングに行ったなら):\n",
    "                #break\n",
    "            \n",
    "            else:\n",
    "                now = df.iat[i+1,0]\n",
    "                if prev >= now:\n",
    "                    array.append(df.iat[i,3])\n",
    "                    break\n",
    "        \n",
    "        \"\"\"\n",
    "        #もともと自分で書いたやつ\n",
    "        for i in range(index+1,length):\n",
    "            prev = df.iat[i,0]\n",
    "            now = df.iat[i+1,0]\n",
    "            if prev >= now: #＞ではなく＞＝(リプレー後初球で決着してしまう場合を考慮)\n",
    "                array.append(df.iat[i,3])\n",
    "                #array.append(i) iはindex番号のこと。コメントを外すとindex番号がarrayに追加される\n",
    "                break\n",
    "        \"\"\"        \n",
    "                \n",
    "                \n",
    "        \n",
    "        #for i in ここに該当プレー後のプレイ全体:\n",
    "            #もし結果がすでに出ていれば(ボール、見逃し、空振り、ファウル以外)\n",
    "            #その結果を配列などのデータセットに入れる\n",
    "            #そうでなければ結果がでるまで続行\n",
    "print(array)\n",
    "print(cnt)\n",
    "print(len(array))"
   ]
  },
  {
   "cell_type": "markdown",
   "id": "4ea9aced-6433-40d0-8c49-178841022a53",
   "metadata": {},
   "source": [
    "<b>できた部分とそうでない部分<br></b>\n",
    "〇　データフレームの前後で投球数と打者が一緒なのはエラーだから消す<br>\n",
    "〇　打者でスコアが変わっている→エラーだからけす<br>\n",
    "〇　index+1の投球数を記録してから前後の投球数を見る。prevなどの変数で保存しておいて比較する<br>\n",
    "未　イニングがリプレー検証に関わるプレーの時に終わっていたら、その後のプレーをarray(リプレイ検証後のプレー)に入れない<br>\n",
    "未　試合がリプレー検証に関わるプレーの時に終わっていたら、その後のプレーをarray(リプレイ検証後のプレー)に入れない<br>\n",
    "未  arrayを基に集計してグラフを作成するなど<br>"
   ]
  },
  {
   "cell_type": "code",
   "execution_count": 15,
   "id": "2bb2c711-4deb-42e9-81f5-6bab8caf1fc5",
   "metadata": {},
   "outputs": [],
   "source": [
    "#次のスコアが0-0だったら試合がリプレー検証で終わっているといえるかも？"
   ]
  },
  {
   "cell_type": "code",
   "execution_count": 16,
   "id": "9cf08220-f67d-4584-96b0-bff75ffb2d0f",
   "metadata": {},
   "outputs": [],
   "source": [
    "#アウトカウントのカラムを追加する。\n"
   ]
  }
 ],
 "metadata": {
  "kernelspec": {
   "display_name": "Python 3 (ipykernel)",
   "language": "python",
   "name": "python3"
  },
  "language_info": {
   "codemirror_mode": {
    "name": "ipython",
    "version": 3
   },
   "file_extension": ".py",
   "mimetype": "text/x-python",
   "name": "python",
   "nbconvert_exporter": "python",
   "pygments_lexer": "ipython3",
   "version": "3.8.11"
  },
  "vscode": {
   "interpreter": {
    "hash": "9b3d359b64615d31bd83d37813109b42bf93fe413de9e027593f9283da4fd420"
   }
  }
 },
 "nbformat": 4,
 "nbformat_minor": 5
}
